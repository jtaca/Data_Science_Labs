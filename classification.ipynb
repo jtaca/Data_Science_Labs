{
 "cells": [
  {
   "cell_type": "markdown",
   "metadata": {},
   "source": [
    "# Classification Techniques"
   ]
  },
  {
   "cell_type": "markdown",
   "metadata": {},
   "source": [
    "### Training Set"
   ]
  },
  {
   "cell_type": "code",
   "execution_count": 341,
   "metadata": {
    "scrolled": true
   },
   "outputs": [
    {
     "name": "stdout",
     "output_type": "stream",
     "text": [
      "(252, 755)\n"
     ]
    }
   ],
   "source": [
    "import pandas as pd\n",
    "import numpy as np\n",
    "from sklearn.model_selection import train_test_split\n",
    "from sklearn.metrics import accuracy_score\n",
    "\n",
    "data = pd.read_csv('dataset1/pd_speech_features_copy1.csv', sep=',')\n",
    "data = data.sort_values('id', ascending=True)\n",
    "data = data.drop_duplicates(subset='id', keep='last')\n",
    "\n",
    "\n",
    "data = data.groupby('id').mean().reset_index()\n",
    "\n",
    "#FAzer a média das 3 medições\n",
    "data = data.groupby('id').mean().reset_index()\n",
    "\n",
    "print(data.shape)\n",
    "\n"
   ]
  },
  {
   "cell_type": "code",
   "execution_count": 342,
   "metadata": {},
   "outputs": [],
   "source": [
    "import numpy as np\n",
    "\n",
    "def multiple_bar_chart(ax: plt.Axes, xvalues: list, yvalues: dict, title: str, xlabel: str, ylabel: str, percentage=False):\n",
    "\n",
    "    ax.set_title(title)\n",
    "    ax.set_xlabel(xlabel)\n",
    "    ax.set_ylabel(ylabel)\n",
    "    x = np.arange(len(xvalues))  # the label locations\n",
    "    ax.set_xticks(x)\n",
    "    ax.set_xticklabels(xvalues, fontsize='small')\n",
    "    if percentage:\n",
    "        ax.set_ylim(0.0, 1.0)\n",
    "    width = 0.8  # the width of the bars\n",
    "    step = width / len(yvalues)\n",
    "    k = 0\n",
    "    for name, y in yvalues.items():\n",
    "        ax.bar(x + k * step, y, step, label=name)\n",
    "        k += 1\n",
    "    ax.legend(loc='lower center', ncol=len(yvalues), bbox_to_anchor=(0.5, -0.2), fancybox = True, shadow = True)    "
   ]
  },
  {
   "cell_type": "code",
   "execution_count": 343,
   "metadata": {},
   "outputs": [
    {
     "data": {
      "image/png": "[encoded data removed]",
      "text/plain": [
       "<Figure size 432x288 with 1 Axes>"
      ]
     },
     "metadata": {
      "needs_background": "light"
     },
     "output_type": "display_data"
    },
    {
     "data": {
      "image/png": "[encoded data removed]",
      "text/plain": [
       "<Figure size 432x288 with 1 Axes>"
      ]
     },
     "metadata": {
      "needs_background": "light"
     },
     "output_type": "display_data"
    },
    {
     "name": "stdout",
     "output_type": "stream",
     "text": [
      "(252, 754)\n",
      "(376, 755)\n"
     ]
    },
    {
     "data": {
      "image/png": "[encoded data removed]",
      "text/plain": [
       "<Figure size 432x288 with 1 Axes>"
      ]
     },
     "metadata": {
      "needs_background": "light"
     },
     "output_type": "display_data"
    }
   ],
   "source": [
    "#Should have normalization and balancing...\n",
    "\n",
    "#Balancing\n",
    "\n",
    "unbal = data\n",
    "target_count = unbal['class'].value_counts()\n",
    "plt.figure()\n",
    "plt.title('Class balance')\n",
    "plt.bar(target_count.index, target_count.values)\n",
    "plt.show()\n",
    "\n",
    "min_class = target_count.idxmin()\n",
    "ind_min_class = target_count.index.get_loc(min_class)\n",
    "\n",
    "from imblearn.over_sampling import SMOTE, RandomOverSampler\n",
    "\n",
    "RANDOM_STATE = 42\n",
    "values = {'Original': [target_count.values[ind_min_class], target_count.values[1-ind_min_class]]}\n",
    "\n",
    "df_class_min = unbal[unbal['class'] == min_class]\n",
    "df_class_max = unbal[unbal['class'] != min_class] \n",
    "\n",
    "df_under = df_class_max.sample(len(df_class_min))\n",
    "values['UnderSample'] = [target_count.values[ind_min_class], len(df_under)]\n",
    "\n",
    "df_over = df_class_min.sample(len(df_class_max), replace=True)\n",
    "values['OverSample'] = [len(df_over), target_count.values[1-ind_min_class]]\n",
    "\n",
    "smote = SMOTE(ratio='minority', random_state=RANDOM_STATE)\n",
    "\n",
    "y = unbal.pop('class').values\n",
    "X = unbal.values\n",
    "smote_x, smote_y = smote.fit_sample(X, y)\n",
    "smote_target_count = pd.Series(smote_y).value_counts()\n",
    "\n",
    "#df_SMOTE = pd.concat([pd.DataFrame(smote_x), pd.DataFrame(smote_y)], axis=1)\n",
    "df_SMOTE = pd.DataFrame(smote_x)\n",
    "df_SMOTE.columns = unbal.columns\n",
    "df_SMOTE['class'] = smote_y\n",
    "#print(df_SMOTE.dtypes)\n",
    "#print(smote_y)\n",
    "\n",
    "values['SMOTE'] = [smote_target_count.values[ind_min_class], smote_target_count.values[1-ind_min_class]]\n",
    "\n",
    "plt.figure()\n",
    "multiple_bar_chart(plt.gca(), \n",
    "                        [target_count.index[ind_min_class], target_count.index[1-ind_min_class]], \n",
    "                        values, 'Target', 'frequency', 'Class balance')\n",
    "plt.show()\n",
    "\n",
    "print(data.shape)\n",
    "print(df_SMOTE.shape)\n",
    "data = df_SMOTE\n",
    "\n",
    "#Drop lable\n",
    "\n",
    "X = data.drop(columns=['class'])\n",
    "y = data['class'].values\n",
    "\n",
    "X_train, X_test, y_train, y_test = train_test_split(X, y, test_size=0.3, random_state=None, stratify=y)\n",
    "\n",
    "\n",
    "#Use SMOTE?\n",
    "target_count = data['class'].value_counts()\n",
    "plt.figure()\n",
    "plt.title('Class balance')\n",
    "plt.bar(target_count.index, target_count.values)\n",
    "plt.show()\n",
    "\n",
    "min_class = target_count.idxmin()\n",
    "ind_min_class = target_count.index.get_loc(min_class)\n"
   ]
  },
  {
   "cell_type": "code",
   "execution_count": 344,
   "metadata": {},
   "outputs": [
    {
     "name": "stdout",
     "output_type": "stream",
     "text": [
      "No missing values\n"
     ]
    },
    {
     "data": {
      "text/html": [
       "<div>\n",
       "<style scoped>\n",
       "    .dataframe tbody tr th:only-of-type {\n",
       "        vertical-align: middle;\n",
       "    }\n",
       "\n",
       "    .dataframe tbody tr th {\n",
       "        vertical-align: top;\n",
       "    }\n",
       "\n",
       "    .dataframe thead th {\n",
       "        text-align: right;\n",
       "    }\n",
       "</style>\n",
       "<table border=\"1\" class=\"dataframe\">\n",
       "  <thead>\n",
       "    <tr style=\"text-align: right;\">\n",
       "      <th></th>\n",
       "      <th>id</th>\n",
       "      <th>gender</th>\n",
       "      <th>PPE</th>\n",
       "      <th>DFA</th>\n",
       "      <th>RPDE</th>\n",
       "      <th>numPulses</th>\n",
       "      <th>numPeriodsPulses</th>\n",
       "      <th>meanPeriodPulses</th>\n",
       "      <th>stdDevPeriodPulses</th>\n",
       "      <th>locPctJitter</th>\n",
       "      <th>...</th>\n",
       "      <th>tqwt_kurtosisValue_dec_28</th>\n",
       "      <th>tqwt_kurtosisValue_dec_29</th>\n",
       "      <th>tqwt_kurtosisValue_dec_30</th>\n",
       "      <th>tqwt_kurtosisValue_dec_31</th>\n",
       "      <th>tqwt_kurtosisValue_dec_32</th>\n",
       "      <th>tqwt_kurtosisValue_dec_33</th>\n",
       "      <th>tqwt_kurtosisValue_dec_34</th>\n",
       "      <th>tqwt_kurtosisValue_dec_35</th>\n",
       "      <th>tqwt_kurtosisValue_dec_36</th>\n",
       "      <th>class</th>\n",
       "    </tr>\n",
       "  </thead>\n",
       "  <tbody>\n",
       "    <tr>\n",
       "      <th>count</th>\n",
       "      <td>3.760000e+02</td>\n",
       "      <td>3.760000e+02</td>\n",
       "      <td>3.760000e+02</td>\n",
       "      <td>3.760000e+02</td>\n",
       "      <td>3.760000e+02</td>\n",
       "      <td>3.760000e+02</td>\n",
       "      <td>3.760000e+02</td>\n",
       "      <td>3.760000e+02</td>\n",
       "      <td>3.760000e+02</td>\n",
       "      <td>3.760000e+02</td>\n",
       "      <td>...</td>\n",
       "      <td>3.760000e+02</td>\n",
       "      <td>3.760000e+02</td>\n",
       "      <td>3.760000e+02</td>\n",
       "      <td>3.760000e+02</td>\n",
       "      <td>3.760000e+02</td>\n",
       "      <td>3.760000e+02</td>\n",
       "      <td>3.760000e+02</td>\n",
       "      <td>3.760000e+02</td>\n",
       "      <td>3.760000e+02</td>\n",
       "      <td>3.760000e+02</td>\n",
       "    </tr>\n",
       "    <tr>\n",
       "      <th>mean</th>\n",
       "      <td>1.653319e-08</td>\n",
       "      <td>8.477119e-11</td>\n",
       "      <td>9.516414e-11</td>\n",
       "      <td>8.902620e-11</td>\n",
       "      <td>6.556376e-11</td>\n",
       "      <td>3.705837e-08</td>\n",
       "      <td>3.688577e-08</td>\n",
       "      <td>9.116101e-13</td>\n",
       "      <td>5.063939e-14</td>\n",
       "      <td>3.244777e-13</td>\n",
       "      <td>...</td>\n",
       "      <td>3.209309e-09</td>\n",
       "      <td>2.568993e-09</td>\n",
       "      <td>2.371250e-09</td>\n",
       "      <td>1.809100e-09</td>\n",
       "      <td>1.523266e-09</td>\n",
       "      <td>1.449318e-09</td>\n",
       "      <td>1.782387e-09</td>\n",
       "      <td>1.769361e-09</td>\n",
       "      <td>3.530157e-09</td>\n",
       "      <td>7.177949e-11</td>\n",
       "    </tr>\n",
       "    <tr>\n",
       "      <th>std</th>\n",
       "      <td>1.594755e-08</td>\n",
       "      <td>1.123287e-10</td>\n",
       "      <td>6.833340e-11</td>\n",
       "      <td>6.470289e-11</td>\n",
       "      <td>6.172882e-11</td>\n",
       "      <td>1.660065e-08</td>\n",
       "      <td>1.645707e-08</td>\n",
       "      <td>9.211847e-13</td>\n",
       "      <td>1.272856e-13</td>\n",
       "      <td>6.779383e-13</td>\n",
       "      <td>...</td>\n",
       "      <td>4.162920e-09</td>\n",
       "      <td>3.216779e-09</td>\n",
       "      <td>3.430389e-09</td>\n",
       "      <td>2.982546e-09</td>\n",
       "      <td>2.680659e-09</td>\n",
       "      <td>2.428885e-09</td>\n",
       "      <td>2.693505e-09</td>\n",
       "      <td>2.448045e-09</td>\n",
       "      <td>5.365558e-09</td>\n",
       "      <td>9.237723e-11</td>\n",
       "    </tr>\n",
       "    <tr>\n",
       "      <th>min</th>\n",
       "      <td>0.000000e+00</td>\n",
       "      <td>0.000000e+00</td>\n",
       "      <td>1.458697e-12</td>\n",
       "      <td>8.874396e-12</td>\n",
       "      <td>5.742804e-12</td>\n",
       "      <td>1.085544e-08</td>\n",
       "      <td>1.076185e-08</td>\n",
       "      <td>2.970239e-14</td>\n",
       "      <td>5.200020e-16</td>\n",
       "      <td>7.973363e-15</td>\n",
       "      <td>...</td>\n",
       "      <td>8.284029e-11</td>\n",
       "      <td>1.009807e-10</td>\n",
       "      <td>6.885815e-11</td>\n",
       "      <td>7.299686e-11</td>\n",
       "      <td>7.110653e-11</td>\n",
       "      <td>1.010537e-10</td>\n",
       "      <td>9.151688e-11</td>\n",
       "      <td>6.031149e-11</td>\n",
       "      <td>1.353010e-10</td>\n",
       "      <td>0.000000e+00</td>\n",
       "    </tr>\n",
       "    <tr>\n",
       "      <th>25%</th>\n",
       "      <td>6.661255e-09</td>\n",
       "      <td>0.000000e+00</td>\n",
       "      <td>5.018842e-11</td>\n",
       "      <td>4.513042e-11</td>\n",
       "      <td>2.512770e-11</td>\n",
       "      <td>2.737579e-08</td>\n",
       "      <td>2.729881e-08</td>\n",
       "      <td>3.069704e-13</td>\n",
       "      <td>3.875266e-15</td>\n",
       "      <td>5.544837e-14</td>\n",
       "      <td>...</td>\n",
       "      <td>4.645978e-10</td>\n",
       "      <td>5.540892e-10</td>\n",
       "      <td>4.419646e-10</td>\n",
       "      <td>3.204611e-10</td>\n",
       "      <td>3.041381e-10</td>\n",
       "      <td>3.215404e-10</td>\n",
       "      <td>4.199526e-10</td>\n",
       "      <td>3.897575e-10</td>\n",
       "      <td>3.977046e-10</td>\n",
       "      <td>0.000000e+00</td>\n",
       "    </tr>\n",
       "    <tr>\n",
       "      <th>50%</th>\n",
       "      <td>1.196676e-08</td>\n",
       "      <td>0.000000e+00</td>\n",
       "      <td>7.844336e-11</td>\n",
       "      <td>7.052513e-11</td>\n",
       "      <td>4.769453e-11</td>\n",
       "      <td>3.397451e-08</td>\n",
       "      <td>3.387582e-08</td>\n",
       "      <td>6.048891e-13</td>\n",
       "      <td>8.291791e-15</td>\n",
       "      <td>1.387313e-13</td>\n",
       "      <td>...</td>\n",
       "      <td>1.121356e-09</td>\n",
       "      <td>1.253294e-09</td>\n",
       "      <td>1.009251e-09</td>\n",
       "      <td>7.518171e-10</td>\n",
       "      <td>5.546869e-10</td>\n",
       "      <td>5.462161e-10</td>\n",
       "      <td>8.115261e-10</td>\n",
       "      <td>8.457357e-10</td>\n",
       "      <td>1.016807e-09</td>\n",
       "      <td>1.570868e-11</td>\n",
       "    </tr>\n",
       "    <tr>\n",
       "      <th>75%</th>\n",
       "      <td>2.133745e-08</td>\n",
       "      <td>1.440480e-10</td>\n",
       "      <td>1.135314e-10</td>\n",
       "      <td>1.047024e-10</td>\n",
       "      <td>7.942739e-11</td>\n",
       "      <td>4.194806e-08</td>\n",
       "      <td>4.180887e-08</td>\n",
       "      <td>1.128953e-12</td>\n",
       "      <td>2.542011e-14</td>\n",
       "      <td>3.131542e-13</td>\n",
       "      <td>...</td>\n",
       "      <td>4.450826e-09</td>\n",
       "      <td>3.307969e-09</td>\n",
       "      <td>2.603189e-09</td>\n",
       "      <td>1.821030e-09</td>\n",
       "      <td>1.441194e-09</td>\n",
       "      <td>1.363687e-09</td>\n",
       "      <td>2.015659e-09</td>\n",
       "      <td>2.067914e-09</td>\n",
       "      <td>4.499236e-09</td>\n",
       "      <td>1.192031e-10</td>\n",
       "    </tr>\n",
       "    <tr>\n",
       "      <th>max</th>\n",
       "      <td>1.207492e-07</td>\n",
       "      <td>5.020282e-10</td>\n",
       "      <td>5.008460e-10</td>\n",
       "      <td>4.364723e-10</td>\n",
       "      <td>4.225563e-10</td>\n",
       "      <td>1.857504e-07</td>\n",
       "      <td>1.837423e-07</td>\n",
       "      <td>5.414189e-12</td>\n",
       "      <td>1.230897e-12</td>\n",
       "      <td>8.368565e-12</td>\n",
       "      <td>...</td>\n",
       "      <td>2.222073e-08</td>\n",
       "      <td>2.091984e-08</td>\n",
       "      <td>2.407462e-08</td>\n",
       "      <td>2.248159e-08</td>\n",
       "      <td>1.882247e-08</td>\n",
       "      <td>1.683825e-08</td>\n",
       "      <td>1.683374e-08</td>\n",
       "      <td>1.541456e-08</td>\n",
       "      <td>3.276195e-08</td>\n",
       "      <td>5.977681e-10</td>\n",
       "    </tr>\n",
       "  </tbody>\n",
       "</table>\n",
       "<p>8 rows × 755 columns</p>\n",
       "</div>"
      ],
      "text/plain": [
       "                 id        gender           PPE           DFA          RPDE  \\\n",
       "count  3.760000e+02  3.760000e+02  3.760000e+02  3.760000e+02  3.760000e+02   \n",
       "mean   1.653319e-08  8.477119e-11  9.516414e-11  8.902620e-11  6.556376e-11   \n",
       "std    1.594755e-08  1.123287e-10  6.833340e-11  6.470289e-11  6.172882e-11   \n",
       "min    0.000000e+00  0.000000e+00  1.458697e-12  8.874396e-12  5.742804e-12   \n",
       "25%    6.661255e-09  0.000000e+00  5.018842e-11  4.513042e-11  2.512770e-11   \n",
       "50%    1.196676e-08  0.000000e+00  7.844336e-11  7.052513e-11  4.769453e-11   \n",
       "75%    2.133745e-08  1.440480e-10  1.135314e-10  1.047024e-10  7.942739e-11   \n",
       "max    1.207492e-07  5.020282e-10  5.008460e-10  4.364723e-10  4.225563e-10   \n",
       "\n",
       "          numPulses  numPeriodsPulses  meanPeriodPulses  stdDevPeriodPulses  \\\n",
       "count  3.760000e+02      3.760000e+02      3.760000e+02        3.760000e+02   \n",
       "mean   3.705837e-08      3.688577e-08      9.116101e-13        5.063939e-14   \n",
       "std    1.660065e-08      1.645707e-08      9.211847e-13        1.272856e-13   \n",
       "min    1.085544e-08      1.076185e-08      2.970239e-14        5.200020e-16   \n",
       "25%    2.737579e-08      2.729881e-08      3.069704e-13        3.875266e-15   \n",
       "50%    3.397451e-08      3.387582e-08      6.048891e-13        8.291791e-15   \n",
       "75%    4.194806e-08      4.180887e-08      1.128953e-12        2.542011e-14   \n",
       "max    1.857504e-07      1.837423e-07      5.414189e-12        1.230897e-12   \n",
       "\n",
       "       locPctJitter  ...  tqwt_kurtosisValue_dec_28  \\\n",
       "count  3.760000e+02  ...               3.760000e+02   \n",
       "mean   3.244777e-13  ...               3.209309e-09   \n",
       "std    6.779383e-13  ...               4.162920e-09   \n",
       "min    7.973363e-15  ...               8.284029e-11   \n",
       "25%    5.544837e-14  ...               4.645978e-10   \n",
       "50%    1.387313e-13  ...               1.121356e-09   \n",
       "75%    3.131542e-13  ...               4.450826e-09   \n",
       "max    8.368565e-12  ...               2.222073e-08   \n",
       "\n",
       "       tqwt_kurtosisValue_dec_29  tqwt_kurtosisValue_dec_30  \\\n",
       "count               3.760000e+02               3.760000e+02   \n",
       "mean                2.568993e-09               2.371250e-09   \n",
       "std                 3.216779e-09               3.430389e-09   \n",
       "min                 1.009807e-10               6.885815e-11   \n",
       "25%                 5.540892e-10               4.419646e-10   \n",
       "50%                 1.253294e-09               1.009251e-09   \n",
       "75%                 3.307969e-09               2.603189e-09   \n",
       "max                 2.091984e-08               2.407462e-08   \n",
       "\n",
       "       tqwt_kurtosisValue_dec_31  tqwt_kurtosisValue_dec_32  \\\n",
       "count               3.760000e+02               3.760000e+02   \n",
       "mean                1.809100e-09               1.523266e-09   \n",
       "std                 2.982546e-09               2.680659e-09   \n",
       "min                 7.299686e-11               7.110653e-11   \n",
       "25%                 3.204611e-10               3.041381e-10   \n",
       "50%                 7.518171e-10               5.546869e-10   \n",
       "75%                 1.821030e-09               1.441194e-09   \n",
       "max                 2.248159e-08               1.882247e-08   \n",
       "\n",
       "       tqwt_kurtosisValue_dec_33  tqwt_kurtosisValue_dec_34  \\\n",
       "count               3.760000e+02               3.760000e+02   \n",
       "mean                1.449318e-09               1.782387e-09   \n",
       "std                 2.428885e-09               2.693505e-09   \n",
       "min                 1.010537e-10               9.151688e-11   \n",
       "25%                 3.215404e-10               4.199526e-10   \n",
       "50%                 5.462161e-10               8.115261e-10   \n",
       "75%                 1.363687e-09               2.015659e-09   \n",
       "max                 1.683825e-08               1.683374e-08   \n",
       "\n",
       "       tqwt_kurtosisValue_dec_35  tqwt_kurtosisValue_dec_36         class  \n",
       "count               3.760000e+02               3.760000e+02  3.760000e+02  \n",
       "mean                1.769361e-09               3.530157e-09  7.177949e-11  \n",
       "std                 2.448045e-09               5.365558e-09  9.237723e-11  \n",
       "min                 6.031149e-11               1.353010e-10  0.000000e+00  \n",
       "25%                 3.897575e-10               3.977046e-10  0.000000e+00  \n",
       "50%                 8.457357e-10               1.016807e-09  1.570868e-11  \n",
       "75%                 2.067914e-09               4.499236e-09  1.192031e-10  \n",
       "max                 1.541456e-08               3.276195e-08  5.977681e-10  \n",
       "\n",
       "[8 rows x 755 columns]"
      ]
     },
     "execution_count": 344,
     "metadata": {},
     "output_type": "execute_result"
    }
   ],
   "source": [
    "#Normalization\n",
    "\n",
    "from sklearn.preprocessing import Normalizer\n",
    "\n",
    "try:\n",
    "    imp_nr = SimpleImputer(strategy='mean', missing_values=np.nan, copy=True)\n",
    "    imp_sb = SimpleImputer(strategy='most_frequent', missing_values='', copy=True)\n",
    "    df_nr = pd.DataFrame(imp_nr.fit_transform(cols_nr), columns=cols_nr.columns)\n",
    "    df_sb = pd.DataFrame(imp_sb.fit_transform(cols_sb), columns=cols_sb.columns)\n",
    "\n",
    "    data = df_nr.join(df_sb, how='right')\n",
    "    data.describe(include='all')\n",
    "\n",
    "    transf = Normalizer().fit(df_nr)\n",
    "    df_nr = pd.DataFrame(transf.transform(df_nr, copy=True), columns= df_nr.columns)\n",
    "    norm_data = df_nr.join(df_sb, how='right')\n",
    "    norm_data.describe(include='all')\n",
    "except:\n",
    "    print(\"No missing values\") \n",
    "\n",
    "transf = Normalizer().fit(data)\n",
    "norm_data = pd.DataFrame(transf.transform(data, copy=True), columns= data.columns)\n",
    "norm_data.describe(include='all')\n",
    "\n",
    "data = norm_data\n",
    "#Sensitivity specificity\n",
    "data.describe(include='all')"
   ]
  },
  {
   "cell_type": "markdown",
   "metadata": {},
   "source": [
    "### KNN"
   ]
  },
  {
   "cell_type": "code",
   "execution_count": 345,
   "metadata": {},
   "outputs": [
    {
     "name": "stdout",
     "output_type": "stream",
     "text": [
      "Accuracy score: 0.7168141592920354 \n",
      "\n",
      "Confusion matrix, without normalization\n",
      "[[43 13]\n",
      " [19 38]]\n"
     ]
    },
    {
     "data": {
      "image/png": "[encoded data removed]",
      "text/plain": [
       "<Figure size 432x288 with 2 Axes>"
      ]
     },
     "metadata": {
      "needs_background": "light"
     },
     "output_type": "display_data"
    }
   ],
   "source": [
    "from sklearn.neighbors import KNeighborsClassifier\n",
    "import sklearn.metrics as metrics\n",
    "import matplotlib.pyplot as plt\n",
    "from sklearn.utils.multiclass import unique_labels\n",
    "\n",
    "\n",
    "def plot_confusion_matrix(y_true, y_pred, classes,\n",
    "                          normalize=False,\n",
    "                          title=None,\n",
    "                          cmap=plt.cm.Blues):\n",
    "    \"\"\"\n",
    "    This function prints and plots the confusion matrix.\n",
    "    Normalization can be applied by setting `normalize=True`.\n",
    "    \"\"\"\n",
    "    if not title:\n",
    "        if normalize:\n",
    "            title = 'Normalized confusion matrix'\n",
    "        else:\n",
    "            title = 'Confusion matrix, without normalization'\n",
    "\n",
    "    # Compute confusion matrix\n",
    "    cm = metrics.confusion_matrix(y_true, y_pred)\n",
    "    # Only use the labels that appear in the data\n",
    "    classes = classes[unique_labels(y_true, y_pred)]\n",
    "    if normalize:\n",
    "        cm = cm.astype('float') / cm.sum(axis=1)[:, np.newaxis]\n",
    "        print(\"Normalized confusion matrix\")\n",
    "    else:\n",
    "        print('Confusion matrix, without normalization')\n",
    "\n",
    "    print(cm)\n",
    "\n",
    "    fig, ax = plt.subplots()\n",
    "    im = ax.imshow(cm, interpolation='nearest', cmap=cmap)\n",
    "    ax.figure.colorbar(im, ax=ax)\n",
    "    # We want to show all ticks...\n",
    "    ax.set(xticks=np.arange(cm.shape[1]),\n",
    "           yticks=np.arange(cm.shape[0]),\n",
    "           # ... and label them with the respective list entries\n",
    "           xticklabels=classes, yticklabels=classes,\n",
    "           title=title,\n",
    "           ylabel='True label',\n",
    "           xlabel='Predicted label')\n",
    "\n",
    "    # Rotate the tick labels and set their alignment.\n",
    "    plt.setp(ax.get_xticklabels(), rotation=45, ha=\"right\",\n",
    "             rotation_mode=\"anchor\")\n",
    "\n",
    "    # Loop over data dimensions and create text annotations.\n",
    "    fmt = '.2f' if normalize else 'd'\n",
    "    thresh = cm.max() / 2.\n",
    "    for i in range(cm.shape[0]):\n",
    "        for j in range(cm.shape[1]):\n",
    "            ax.text(j, i, format(cm[i, j], fmt),\n",
    "                    ha=\"center\", va=\"center\",\n",
    "                    color=\"white\" if cm[i, j] > thresh else \"black\")\n",
    "    fig.tight_layout()\n",
    "    return ax\n",
    "\n",
    "\n",
    "knn = KNeighborsClassifier(n_neighbors = 7)\n",
    "knn.fit(X_train,y_train)\n",
    "#knn.score(X_test, y_test)   \n",
    "y_predict = knn.predict(X_test)\n",
    "print(\"Accuracy score:\", accuracy_score(y_test, y_predict), \"\\n\")\n",
    "\n",
    "labels = pd.unique(y)\n",
    "\n",
    "np.set_printoptions(precision=2)\n",
    "\n",
    "# Plot non-normalized confusion matrix\n",
    "plot_confusion_matrix(y_test, y_predict, classes=labels,\n",
    "                      title='Confusion matrix, without normalization')\n",
    "\n",
    "# Plot normalized confusion matrix\n",
    "#plot_confusion_matrix(y_test, y_predict, classes=labels, normalize=True,\n",
    "#                      title='Normalized confusion matrix')\n",
    "\n",
    "plt.show()"
   ]
  },
  {
   "cell_type": "markdown",
   "metadata": {},
   "source": [
    "### Naive Bayes"
   ]
  },
  {
   "cell_type": "code",
   "execution_count": 346,
   "metadata": {},
   "outputs": [
    {
     "name": "stdout",
     "output_type": "stream",
     "text": [
      "Accuracy score: 0.6283185840707964 \n",
      "\n",
      "Confusion matrix, without normalization\n",
      "[[23 33]\n",
      " [ 9 48]]\n"
     ]
    },
    {
     "data": {
      "text/plain": [
       "<matplotlib.axes._subplots.AxesSubplot at 0x1a1b4fbbe0>"
      ]
     },
     "execution_count": 346,
     "metadata": {},
     "output_type": "execute_result"
    },
    {
     "data": {
      "image/png": "[encoded data removed]",
      "text/plain": [
       "<Figure size 432x288 with 2 Axes>"
      ]
     },
     "metadata": {
      "needs_background": "light"
     },
     "output_type": "display_data"
    }
   ],
   "source": [
    "from sklearn.naive_bayes import MultinomialNB, GaussianNB, BernoulliNB\n",
    "\n",
    "gaussNB = GaussianNB()\n",
    "gaussNB.fit(X_train, y_train)\n",
    "y_predict = gaussNB.predict(X_test)\n",
    "\n",
    "print(\"Accuracy score:\", accuracy_score(y_test, y_predict), \"\\n\")\n",
    "# Plot non-normalized confusion matrix\n",
    "plot_confusion_matrix(y_test, y_predict, classes=labels,\n",
    "                      title='Confusion matrix, without normalization')"
   ]
  },
  {
   "cell_type": "code",
   "execution_count": 347,
   "metadata": {},
   "outputs": [
    {
     "name": "stdout",
     "output_type": "stream",
     "text": [
      "Accuracy score: 0.7610619469026548 \n",
      "\n",
      "Confusion matrix, without normalization\n",
      "[[47  9]\n",
      " [18 39]]\n"
     ]
    },
    {
     "data": {
      "text/plain": [
       "<matplotlib.axes._subplots.AxesSubplot at 0x1a1f7ba160>"
      ]
     },
     "execution_count": 347,
     "metadata": {},
     "output_type": "execute_result"
    },
    {
     "data": {
      "image/png": "[encoded data removed]",
      "text/plain": [
       "<Figure size 432x288 with 2 Axes>"
      ]
     },
     "metadata": {
      "needs_background": "light"
     },
     "output_type": "display_data"
    }
   ],
   "source": [
    "bernNB = BernoulliNB(binarize = True)\n",
    "bernNB.fit(X_train, y_train)\n",
    "y_predict = bernNB.predict(X_test)\n",
    "\n",
    "print(\"Accuracy score:\", accuracy_score(y_test, y_predict), \"\\n\")\n",
    "\n",
    "# Plot non-normalized confusion matrix\n",
    "plot_confusion_matrix(y_test, y_predict, classes=labels,\n",
    "                      title='Confusion matrix, without normalization')"
   ]
  },
  {
   "cell_type": "code",
   "execution_count": 348,
   "metadata": {},
   "outputs": [],
   "source": [
    "# Can only be used with non-negative values\n",
    "#multiNB = MultinomialNB()\n",
    "#multiNB.fit(X_train, y_train)\n",
    "#y_predict = multiNB.predict(X_test)\n",
    "#accuracy_score(y_test, y_predict)"
   ]
  },
  {
   "cell_type": "code",
   "execution_count": 349,
   "metadata": {},
   "outputs": [],
   "source": [
    "## SHow diferent results using balancings\n",
    "## Show impact of usage of diferent features in KNN and NB"
   ]
  }
 ],
 "metadata": {
  "kernelspec": {
   "display_name": "Python 3",
   "language": "python",
   "name": "python3"
  },
  "language_info": {
   "codemirror_mode": {
    "name": "ipython",
    "version": 3
   },
   "file_extension": ".py",
   "mimetype": "text/x-python",
   "name": "python",
   "nbconvert_exporter": "python",
   "pygments_lexer": "ipython3",
   "version": "3.7.3"
  }
 },
 "nbformat": 4,
 "nbformat_minor": 2
}
