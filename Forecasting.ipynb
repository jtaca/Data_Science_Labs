{
 "cells": [
  {
   "cell_type": "code",
   "execution_count": 2,
   "metadata": {},
   "outputs": [
    {
     "name": "stdout",
     "output_type": "stream",
     "text": [
      "                     Global_active_power  Global_reactive_power  Voltage  \\\n",
      "Date                                                                       \n",
      "2006-12-16 17:00:00                4.587                  0.484  234.367   \n",
      "2006-12-16 17:30:00                4.150                  0.178  234.699   \n",
      "2006-12-16 18:00:00                3.945                  0.085  235.185   \n",
      "2006-12-16 18:30:00                3.320                  0.075  233.976   \n",
      "2006-12-16 19:00:00                3.464                  0.050  233.754   \n",
      "2006-12-16 19:30:00                3.336                  0.121  232.711   \n",
      "2006-12-16 20:00:00                3.299                  0.054  233.225   \n",
      "2006-12-16 20:30:00                3.239                  0.096  234.918   \n",
      "2006-12-16 21:00:00                3.032                  0.063  237.352   \n",
      "2006-12-16 21:30:00                3.081                  0.090  236.966   \n",
      "2006-12-16 22:00:00                2.516                  0.037  237.728   \n",
      "2006-12-16 22:30:00                1.885                  0.075  239.792   \n",
      "2006-12-16 23:00:00                1.907                  0.052  240.432   \n",
      "2006-12-16 23:30:00                2.216                  0.091  240.807   \n",
      "2006-12-17 00:00:00                1.984                  0.152  240.114   \n",
      "2006-12-17 00:30:00                1.780                  0.053  241.810   \n",
      "2006-12-17 01:00:00                3.676                  0.124  239.562   \n",
      "2006-12-17 01:30:00                3.023                  0.150  241.335   \n",
      "2006-12-17 02:00:00                1.600                  0.121  245.821   \n",
      "2006-12-17 02:30:00                1.574                  0.035  245.816   \n",
      "2006-12-17 03:00:00                1.646                  0.075  244.716   \n",
      "2006-12-17 03:30:00                1.678                  0.084  244.311   \n",
      "2006-12-17 04:00:00                1.685                  0.129  244.123   \n",
      "2006-12-17 04:30:00                2.747                  0.058  243.588   \n",
      "2006-12-17 05:00:00                2.276                  0.074  243.444   \n",
      "2006-12-17 05:30:00                1.718                  0.046  243.977   \n",
      "2006-12-17 06:00:00                1.856                  0.114  243.832   \n",
      "2006-12-17 06:30:00                0.751                  0.076  244.451   \n",
      "2006-12-17 07:00:00                1.366                  0.055  241.576   \n",
      "2006-12-17 07:30:00                1.874                  0.065  242.115   \n",
      "...                                  ...                    ...      ...   \n",
      "2010-11-26 06:30:00                1.752                  0.035  242.165   \n",
      "2010-11-26 07:00:00                2.594                  0.073  238.710   \n",
      "2010-11-26 07:30:00                3.173                  0.132  237.924   \n",
      "2010-11-26 08:00:00                2.587                  0.144  239.246   \n",
      "2010-11-26 08:30:00                1.412                  0.084  240.197   \n",
      "2010-11-26 09:00:00                1.452                  0.058  239.538   \n",
      "2010-11-26 09:30:00                2.248                  0.069  240.422   \n",
      "2010-11-26 10:00:00                1.371                  0.090  240.177   \n",
      "2010-11-26 10:30:00                1.335                  0.090  237.548   \n",
      "2010-11-26 11:00:00                1.325                  0.091  238.203   \n",
      "2010-11-26 11:30:00                1.352                  0.125  237.801   \n",
      "2010-11-26 12:00:00                1.607                  0.096  237.974   \n",
      "2010-11-26 12:30:00                1.374                  0.093  237.913   \n",
      "2010-11-26 13:00:00                1.636                  0.216  238.476   \n",
      "2010-11-26 13:30:00                1.590                  0.197  238.624   \n",
      "2010-11-26 14:00:00                1.354                  0.085  240.130   \n",
      "2010-11-26 14:30:00                1.461                  0.165  239.251   \n",
      "2010-11-26 15:00:00                1.309                  0.097  240.046   \n",
      "2010-11-26 15:30:00                0.443                  0.108  241.536   \n",
      "2010-11-26 16:00:00                0.852                  0.212  241.718   \n",
      "2010-11-26 16:30:00                1.284                  0.219  239.198   \n",
      "2010-11-26 17:00:00                1.620                  0.064  236.973   \n",
      "2010-11-26 17:30:00                1.832                  0.059  237.167   \n",
      "2010-11-26 18:00:00                1.409                  0.087  238.762   \n",
      "2010-11-26 18:30:00                1.738                  0.021  236.302   \n",
      "2010-11-26 19:00:00                1.591                  0.072  237.261   \n",
      "2010-11-26 19:30:00                1.727                  0.048  236.221   \n",
      "2010-11-26 20:00:00                1.357                  0.088  239.817   \n",
      "2010-11-26 20:30:00                0.971                  0.035  238.975   \n",
      "2010-11-26 21:00:00                0.935                  0.000  239.690   \n",
      "\n",
      "                     Global_intensity  Sub_metering_1  Sub_metering_2  \\\n",
      "Date                                                                    \n",
      "2006-12-16 17:00:00            19.700             0.0           1.333   \n",
      "2006-12-16 17:30:00            17.780             0.0           0.367   \n",
      "2006-12-16 18:00:00            16.967             0.0          11.400   \n",
      "2006-12-16 18:30:00            14.233             0.0           2.033   \n",
      "2006-12-16 19:00:00            14.747             0.0           1.833   \n",
      "2006-12-16 19:30:00            14.260             0.0           1.033   \n",
      "2006-12-16 20:00:00            14.067             0.0           0.000   \n",
      "2006-12-16 20:30:00            13.767             0.0           0.000   \n",
      "2006-12-16 21:00:00            12.947             0.0           0.000   \n",
      "2006-12-16 21:30:00            13.147             0.0           0.833   \n",
      "2006-12-16 22:00:00            10.887             0.0           0.267   \n",
      "2006-12-16 22:30:00             8.160             0.0           0.000   \n",
      "2006-12-16 23:00:00             8.260             0.0           0.000   \n",
      "2006-12-16 23:30:00             9.533             0.0           0.167   \n",
      "2006-12-17 00:00:00             8.547             0.0           0.933   \n",
      "2006-12-17 00:30:00             7.707             0.0           0.000   \n",
      "2006-12-17 01:00:00            15.593             0.0          28.100   \n",
      "2006-12-17 01:30:00            12.900             0.0          22.367   \n",
      "2006-12-17 02:00:00             6.893             0.0           0.967   \n",
      "2006-12-17 02:30:00             6.847             0.0           0.167   \n",
      "2006-12-17 03:00:00             7.100             0.0           1.067   \n",
      "2006-12-17 03:30:00             7.313             0.0           0.467   \n",
      "2006-12-17 04:00:00             7.267             0.0           0.967   \n",
      "2006-12-17 04:30:00            11.400             0.0           0.167   \n",
      "2006-12-17 05:00:00             9.667             0.0           0.167   \n",
      "2006-12-17 05:30:00             7.467             0.0           0.167   \n",
      "2006-12-17 06:00:00             7.960             0.0           1.267   \n",
      "2006-12-17 06:30:00             3.100             0.0           0.167   \n",
      "2006-12-17 07:00:00             5.680             0.0           0.167   \n",
      "2006-12-17 07:30:00             7.927             0.0           0.167   \n",
      "...                               ...             ...             ...   \n",
      "2010-11-26 06:30:00             7.347             0.0           0.000   \n",
      "2010-11-26 07:00:00            10.807             0.0           0.000   \n",
      "2010-11-26 07:30:00            13.293             0.4           0.900   \n",
      "2010-11-26 08:00:00            10.847            16.6           1.167   \n",
      "2010-11-26 08:30:00             5.820             1.2           0.200   \n",
      "2010-11-26 09:00:00             6.047             2.3           0.000   \n",
      "2010-11-26 09:30:00             9.333            15.5           0.000   \n",
      "2010-11-26 10:00:00             5.620             0.0           0.000   \n",
      "2010-11-26 10:30:00             5.553             0.0           0.000   \n",
      "2010-11-26 11:00:00             5.500             0.0           0.000   \n",
      "2010-11-26 11:30:00             5.660             0.0           0.733   \n",
      "2010-11-26 12:00:00             6.773             0.0           1.200   \n",
      "2010-11-26 12:30:00             5.713             0.0           0.400   \n",
      "2010-11-26 13:00:00             7.020             0.0           0.000   \n",
      "2010-11-26 13:30:00             6.740             0.0           0.000   \n",
      "2010-11-26 14:00:00             5.553             0.0           0.000   \n",
      "2010-11-26 14:30:00             6.153             0.0           0.000   \n",
      "2010-11-26 15:00:00             5.400             0.0           0.000   \n",
      "2010-11-26 15:30:00             1.887             0.0           0.533   \n",
      "2010-11-26 16:00:00             3.560             0.0           1.233   \n",
      "2010-11-26 16:30:00             5.660             0.0           0.667   \n",
      "2010-11-26 17:00:00             6.773             0.0           0.000   \n",
      "2010-11-26 17:30:00             7.660             0.0           0.000   \n",
      "2010-11-26 18:00:00             5.920             0.0           0.000   \n",
      "2010-11-26 18:30:00             7.320             0.0           0.000   \n",
      "2010-11-26 19:00:00             6.693             0.0           0.000   \n",
      "2010-11-26 19:30:00             7.420             0.0           0.133   \n",
      "2010-11-26 20:00:00             5.747             0.0           1.300   \n",
      "2010-11-26 20:30:00             4.080             0.0           0.833   \n",
      "2010-11-26 21:00:00             3.800             0.0           0.000   \n",
      "\n",
      "                     Sub_metering_3  \n",
      "Date                                 \n",
      "2006-12-16 17:00:00          16.833  \n",
      "2006-12-16 17:30:00          16.867  \n",
      "2006-12-16 18:00:00          16.967  \n",
      "2006-12-16 18:30:00          16.767  \n",
      "2006-12-16 19:00:00          16.767  \n",
      "2006-12-16 19:30:00          16.600  \n",
      "2006-12-16 20:00:00          16.667  \n",
      "2006-12-16 20:30:00          16.900  \n",
      "2006-12-16 21:00:00          17.233  \n",
      "2006-12-16 21:30:00          17.200  \n",
      "2006-12-16 22:00:00           8.867  \n",
      "2006-12-16 22:30:00           0.000  \n",
      "2006-12-16 23:00:00           0.000  \n",
      "2006-12-16 23:30:00           0.000  \n",
      "2006-12-17 00:00:00           0.000  \n",
      "2006-12-17 00:30:00           0.000  \n",
      "2006-12-17 01:00:00           0.000  \n",
      "2006-12-17 01:30:00           0.000  \n",
      "2006-12-17 02:00:00           0.000  \n",
      "2006-12-17 02:30:00           0.000  \n",
      "2006-12-17 03:00:00           0.000  \n",
      "2006-12-17 03:30:00           0.000  \n",
      "2006-12-17 04:00:00           0.000  \n",
      "2006-12-17 04:30:00          17.767  \n",
      "2006-12-17 05:00:00           9.300  \n",
      "2006-12-17 05:30:00           0.000  \n",
      "2006-12-17 06:00:00           0.000  \n",
      "2006-12-17 06:30:00           0.000  \n",
      "2006-12-17 07:00:00           0.000  \n",
      "2006-12-17 07:30:00           0.000  \n",
      "...                             ...  \n",
      "2010-11-26 06:30:00           9.900  \n",
      "2010-11-26 07:00:00          17.500  \n",
      "2010-11-26 07:30:00          17.367  \n",
      "2010-11-26 08:00:00          17.567  \n",
      "2010-11-26 08:30:00          17.700  \n",
      "2010-11-26 09:00:00          17.600  \n",
      "2010-11-26 09:30:00          17.733  \n",
      "2010-11-26 10:00:00          17.700  \n",
      "2010-11-26 10:30:00          17.333  \n",
      "2010-11-26 11:00:00          17.400  \n",
      "2010-11-26 11:30:00          17.367  \n",
      "2010-11-26 12:00:00          17.367  \n",
      "2010-11-26 12:30:00          17.367  \n",
      "2010-11-26 13:00:00          17.467  \n",
      "2010-11-26 13:30:00          17.467  \n",
      "2010-11-26 14:00:00          17.700  \n",
      "2010-11-26 14:30:00          17.567  \n",
      "2010-11-26 15:00:00          17.133  \n",
      "2010-11-26 15:30:00           0.000  \n",
      "2010-11-26 16:00:00           0.000  \n",
      "2010-11-26 16:30:00           0.000  \n",
      "2010-11-26 17:00:00          11.567  \n",
      "2010-11-26 17:30:00          14.167  \n",
      "2010-11-26 18:00:00           0.000  \n",
      "2010-11-26 18:30:00           0.000  \n",
      "2010-11-26 19:00:00           0.000  \n",
      "2010-11-26 19:30:00           0.000  \n",
      "2010-11-26 20:00:00           0.000  \n",
      "2010-11-26 20:30:00           0.000  \n",
      "2010-11-26 21:00:00           0.000  \n",
      "\n",
      "[69177 rows x 7 columns]\n"
     ]
    },
    {
     "ename": "AttributeError",
     "evalue": "'datetime.datetime' object has no attribute 'value'",
     "output_type": "error",
     "traceback": [
      "\u001b[0;31m---------------------------------------------------------------------------\u001b[0m",
      "\u001b[0;31mAttributeError\u001b[0m                            Traceback (most recent call last)",
      "\u001b[0;32m<ipython-input-2-a24e23de082c>\u001b[0m in \u001b[0;36m<module>\u001b[0;34m\u001b[0m\n\u001b[1;32m     14\u001b[0m \u001b[0mdata\u001b[0m \u001b[0;34m=\u001b[0m \u001b[0mpd\u001b[0m\u001b[0;34m.\u001b[0m\u001b[0mread_csv\u001b[0m\u001b[0;34m(\u001b[0m\u001b[0;34m'submetering.csv'\u001b[0m\u001b[0;34m,\u001b[0m \u001b[0mparse_dates\u001b[0m\u001b[0;34m=\u001b[0m\u001b[0;34m[\u001b[0m\u001b[0;34m'Date'\u001b[0m\u001b[0;34m]\u001b[0m\u001b[0;34m,\u001b[0m \u001b[0mindex_col\u001b[0m\u001b[0;34m=\u001b[0m\u001b[0;34m'Date'\u001b[0m\u001b[0;34m,\u001b[0m \u001b[0mdate_parser\u001b[0m\u001b[0;34m=\u001b[0m\u001b[0mdateparse\u001b[0m\u001b[0;34m)\u001b[0m\u001b[0;34m\u001b[0m\u001b[0;34m\u001b[0m\u001b[0m\n\u001b[1;32m     15\u001b[0m \u001b[0mprint\u001b[0m\u001b[0;34m(\u001b[0m\u001b[0mdata\u001b[0m\u001b[0;34m)\u001b[0m\u001b[0;34m\u001b[0m\u001b[0;34m\u001b[0m\u001b[0m\n\u001b[0;32m---> 16\u001b[0;31m \u001b[0mdf\u001b[0m\u001b[0;34m.\u001b[0m\u001b[0mindex\u001b[0m \u001b[0;34m=\u001b[0m \u001b[0mpd\u001b[0m\u001b[0;34m.\u001b[0m\u001b[0mdate_range\u001b[0m\u001b[0;34m(\u001b[0m\u001b[0mstart\u001b[0m\u001b[0;34m=\u001b[0m\u001b[0mpd\u001b[0m\u001b[0;34m.\u001b[0m\u001b[0mdatetime\u001b[0m\u001b[0;34m(\u001b[0m\u001b[0;36m2007\u001b[0m\u001b[0;34m,\u001b[0m\u001b[0;36m1\u001b[0m\u001b[0;34m,\u001b[0m\u001b[0;36m1\u001b[0m\u001b[0;34m)\u001b[0m\u001b[0;34m,\u001b[0m\u001b[0mfreq\u001b[0m\u001b[0;34m=\u001b[0m\u001b[0;34m'M'\u001b[0m\u001b[0;34m,\u001b[0m\u001b[0mperiods\u001b[0m\u001b[0;34m=\u001b[0m\u001b[0mlen\u001b[0m\u001b[0;34m(\u001b[0m\u001b[0mdata\u001b[0m\u001b[0;34m)\u001b[0m\u001b[0;34m)\u001b[0m\u001b[0;34m\u001b[0m\u001b[0;34m\u001b[0m\u001b[0m\n\u001b[0m\u001b[1;32m     17\u001b[0m \u001b[0mdf\u001b[0m\u001b[0;34m.\u001b[0m\u001b[0mhead\u001b[0m\u001b[0;34m(\u001b[0m\u001b[0;34m)\u001b[0m\u001b[0;34m\u001b[0m\u001b[0;34m\u001b[0m\u001b[0m\n\u001b[1;32m     18\u001b[0m \u001b[0;34m\u001b[0m\u001b[0m\n",
      "\u001b[0;32m~/anaconda3/lib/python3.7/site-packages/pandas/core/indexes/datetimes.py\u001b[0m in \u001b[0;36mdate_range\u001b[0;34m(start, end, periods, freq, tz, normalize, name, closed, **kwargs)\u001b[0m\n\u001b[1;32m   1522\u001b[0m         \u001b[0mstart\u001b[0m\u001b[0;34m=\u001b[0m\u001b[0mstart\u001b[0m\u001b[0;34m,\u001b[0m \u001b[0mend\u001b[0m\u001b[0;34m=\u001b[0m\u001b[0mend\u001b[0m\u001b[0;34m,\u001b[0m \u001b[0mperiods\u001b[0m\u001b[0;34m=\u001b[0m\u001b[0mperiods\u001b[0m\u001b[0;34m,\u001b[0m\u001b[0;34m\u001b[0m\u001b[0;34m\u001b[0m\u001b[0m\n\u001b[1;32m   1523\u001b[0m         \u001b[0mfreq\u001b[0m\u001b[0;34m=\u001b[0m\u001b[0mfreq\u001b[0m\u001b[0;34m,\u001b[0m \u001b[0mtz\u001b[0m\u001b[0;34m=\u001b[0m\u001b[0mtz\u001b[0m\u001b[0;34m,\u001b[0m \u001b[0mnormalize\u001b[0m\u001b[0;34m=\u001b[0m\u001b[0mnormalize\u001b[0m\u001b[0;34m,\u001b[0m\u001b[0;34m\u001b[0m\u001b[0;34m\u001b[0m\u001b[0m\n\u001b[0;32m-> 1524\u001b[0;31m         closed=closed, **kwargs)\n\u001b[0m\u001b[1;32m   1525\u001b[0m     return DatetimeIndex._simple_new(\n\u001b[1;32m   1526\u001b[0m         dtarr, tz=dtarr.tz, freq=dtarr.freq, name=name)\n",
      "\u001b[0;32m~/anaconda3/lib/python3.7/site-packages/pandas/core/arrays/datetimes.py\u001b[0m in \u001b[0;36m_generate_range\u001b[0;34m(cls, start, end, periods, freq, tz, normalize, ambiguous, nonexistent, closed)\u001b[0m\n\u001b[1;32m    446\u001b[0m                     \u001b[0mend\u001b[0m \u001b[0;34m=\u001b[0m \u001b[0mend\u001b[0m\u001b[0;34m.\u001b[0m\u001b[0mtz_localize\u001b[0m\u001b[0;34m(\u001b[0m\u001b[0;32mNone\u001b[0m\u001b[0;34m)\u001b[0m\u001b[0;34m\u001b[0m\u001b[0;34m\u001b[0m\u001b[0m\n\u001b[1;32m    447\u001b[0m             \u001b[0;31m# TODO: consider re-implementing _cached_range; GH#17914\u001b[0m\u001b[0;34m\u001b[0m\u001b[0;34m\u001b[0m\u001b[0;34m\u001b[0m\u001b[0m\n\u001b[0;32m--> 448\u001b[0;31m             \u001b[0mvalues\u001b[0m\u001b[0;34m,\u001b[0m \u001b[0m_tz\u001b[0m \u001b[0;34m=\u001b[0m \u001b[0mgenerate_regular_range\u001b[0m\u001b[0;34m(\u001b[0m\u001b[0mstart\u001b[0m\u001b[0;34m,\u001b[0m \u001b[0mend\u001b[0m\u001b[0;34m,\u001b[0m \u001b[0mperiods\u001b[0m\u001b[0;34m,\u001b[0m \u001b[0mfreq\u001b[0m\u001b[0;34m)\u001b[0m\u001b[0;34m\u001b[0m\u001b[0;34m\u001b[0m\u001b[0m\n\u001b[0m\u001b[1;32m    449\u001b[0m             \u001b[0mindex\u001b[0m \u001b[0;34m=\u001b[0m \u001b[0mcls\u001b[0m\u001b[0;34m.\u001b[0m\u001b[0m_simple_new\u001b[0m\u001b[0;34m(\u001b[0m\u001b[0mvalues\u001b[0m\u001b[0;34m,\u001b[0m \u001b[0mfreq\u001b[0m\u001b[0;34m=\u001b[0m\u001b[0mfreq\u001b[0m\u001b[0;34m,\u001b[0m \u001b[0mdtype\u001b[0m\u001b[0;34m=\u001b[0m\u001b[0mtz_to_dtype\u001b[0m\u001b[0;34m(\u001b[0m\u001b[0m_tz\u001b[0m\u001b[0;34m)\u001b[0m\u001b[0;34m)\u001b[0m\u001b[0;34m\u001b[0m\u001b[0;34m\u001b[0m\u001b[0m\n\u001b[1;32m    450\u001b[0m \u001b[0;34m\u001b[0m\u001b[0m\n",
      "\u001b[0;32m~/anaconda3/lib/python3.7/site-packages/pandas/core/arrays/_ranges.py\u001b[0m in \u001b[0;36mgenerate_regular_range\u001b[0;34m(start, end, periods, freq)\u001b[0m\n\u001b[1;32m     76\u001b[0m                              periods=periods, offset=freq)\n\u001b[1;32m     77\u001b[0m \u001b[0;34m\u001b[0m\u001b[0m\n\u001b[0;32m---> 78\u001b[0;31m         \u001b[0mvalues\u001b[0m \u001b[0;34m=\u001b[0m \u001b[0mnp\u001b[0m\u001b[0;34m.\u001b[0m\u001b[0marray\u001b[0m\u001b[0;34m(\u001b[0m\u001b[0;34m[\u001b[0m\u001b[0mx\u001b[0m\u001b[0;34m.\u001b[0m\u001b[0mvalue\u001b[0m \u001b[0;32mfor\u001b[0m \u001b[0mx\u001b[0m \u001b[0;32min\u001b[0m \u001b[0mxdr\u001b[0m\u001b[0;34m]\u001b[0m\u001b[0;34m,\u001b[0m \u001b[0mdtype\u001b[0m\u001b[0;34m=\u001b[0m\u001b[0mnp\u001b[0m\u001b[0;34m.\u001b[0m\u001b[0mint64\u001b[0m\u001b[0;34m)\u001b[0m\u001b[0;34m\u001b[0m\u001b[0;34m\u001b[0m\u001b[0m\n\u001b[0m\u001b[1;32m     79\u001b[0m \u001b[0;34m\u001b[0m\u001b[0m\n\u001b[1;32m     80\u001b[0m     \u001b[0;32mreturn\u001b[0m \u001b[0mvalues\u001b[0m\u001b[0;34m,\u001b[0m \u001b[0mtz\u001b[0m\u001b[0;34m\u001b[0m\u001b[0;34m\u001b[0m\u001b[0m\n",
      "\u001b[0;32m~/anaconda3/lib/python3.7/site-packages/pandas/core/arrays/_ranges.py\u001b[0m in \u001b[0;36m<listcomp>\u001b[0;34m(.0)\u001b[0m\n\u001b[1;32m     76\u001b[0m                              periods=periods, offset=freq)\n\u001b[1;32m     77\u001b[0m \u001b[0;34m\u001b[0m\u001b[0m\n\u001b[0;32m---> 78\u001b[0;31m         \u001b[0mvalues\u001b[0m \u001b[0;34m=\u001b[0m \u001b[0mnp\u001b[0m\u001b[0;34m.\u001b[0m\u001b[0marray\u001b[0m\u001b[0;34m(\u001b[0m\u001b[0;34m[\u001b[0m\u001b[0mx\u001b[0m\u001b[0;34m.\u001b[0m\u001b[0mvalue\u001b[0m \u001b[0;32mfor\u001b[0m \u001b[0mx\u001b[0m \u001b[0;32min\u001b[0m \u001b[0mxdr\u001b[0m\u001b[0;34m]\u001b[0m\u001b[0;34m,\u001b[0m \u001b[0mdtype\u001b[0m\u001b[0;34m=\u001b[0m\u001b[0mnp\u001b[0m\u001b[0;34m.\u001b[0m\u001b[0mint64\u001b[0m\u001b[0;34m)\u001b[0m\u001b[0;34m\u001b[0m\u001b[0;34m\u001b[0m\u001b[0m\n\u001b[0m\u001b[1;32m     79\u001b[0m \u001b[0;34m\u001b[0m\u001b[0m\n\u001b[1;32m     80\u001b[0m     \u001b[0;32mreturn\u001b[0m \u001b[0mvalues\u001b[0m\u001b[0;34m,\u001b[0m \u001b[0mtz\u001b[0m\u001b[0;34m\u001b[0m\u001b[0;34m\u001b[0m\u001b[0m\n",
      "\u001b[0;31mAttributeError\u001b[0m: 'datetime.datetime' object has no attribute 'value'"
     ]
    }
   ],
   "source": [
    "import pandas as pd\n",
    "import numpy as np\n",
    "import matplotlib.pylab as plt\n",
    "import statsmodels\n",
    "import math\n",
    "from sklearn.impute import SimpleImputer\n",
    "\n",
    "\n",
    "#data = pd.read_csv(\"submetering.csv\",delimiter=',')\n",
    "#print(data[\"Date\"])\n",
    "#data[\"Date\"] = pd.to_datetime(data[\"Date\"], format=\"%Y-%m-%d %H:%M:%S\")\n",
    "\n",
    "dateparse = lambda dates: pd.datetime.strptime(dates, '%Y-%m-%d %H:%M:%S')\n",
    "data = pd.read_csv('submetering.csv', parse_dates=['Date'], index_col='Date', date_parser=dateparse)\n",
    "print(data)\n",
    "df.index = pd.date_range(start=pd.datetime(2007,1,1),freq='M',periods=len(data))\n",
    "df.head()\n",
    "\n",
    "#data.set_index(\"Date\",inplace=True)\n",
    "#print(data[\"Date\"])\n",
    "print(data.index)"
   ]
  },
  {
   "cell_type": "code",
   "execution_count": 76,
   "metadata": {},
   "outputs": [
    {
     "name": "stdout",
     "output_type": "stream",
     "text": [
      "68324\n"
     ]
    },
    {
     "data": {
      "text/plain": [
       "DatetimeIndex(['2006-12-16 17:00:00', '2006-12-16 17:30:00',\n",
       "               '2006-12-16 18:00:00', '2006-12-16 18:30:00',\n",
       "               '2006-12-16 19:00:00', '2006-12-16 19:30:00',\n",
       "               '2006-12-16 20:00:00', '2006-12-16 20:30:00',\n",
       "               '2006-12-16 21:00:00', '2006-12-16 21:30:00',\n",
       "               ...\n",
       "               '2010-11-26 16:30:00', '2010-11-26 17:00:00',\n",
       "               '2010-11-26 17:30:00', '2010-11-26 18:00:00',\n",
       "               '2010-11-26 18:30:00', '2010-11-26 19:00:00',\n",
       "               '2010-11-26 19:30:00', '2010-11-26 20:00:00',\n",
       "               '2010-11-26 20:30:00', '2010-11-26 21:00:00'],\n",
       "              dtype='datetime64[ns]', name='Date', length=68324, freq=None)"
      ]
     },
     "execution_count": 76,
     "metadata": {},
     "output_type": "execute_result"
    }
   ],
   "source": [
    "#plt.plot()\n",
    "#print(data['Global_active_power'])\n",
    "#df = pd.DataFrame({'Date':data['Date'],'Global_active_power':data['Global_active_power']})\n",
    "\n",
    "\n",
    "#imp = SimpleImputer(missing_values=-1, strategy='mean')\n",
    "#imp.fit(df)                  \n",
    "#SimpleImputer(add_indicator=False, copy=True, fill_value=None, missing_values=-1, strategy='mean', verbose=0)\n",
    "#imp.transform(df)\n",
    "#data = data['2007']\n",
    "data = data.dropna()\n",
    "\n",
    "#print(data.values)\n",
    "ts = pd.Series(data['Global_active_power'],data.index)\n",
    "#ts=data['Global_active_power']\n",
    "print(len(ts))\n",
    "ts.head()\n",
    "#print(ts)\n",
    "#print(df)\n",
    "data.index"
   ]
  },
  {
   "cell_type": "code",
   "execution_count": 60,
   "metadata": {},
   "outputs": [],
   "source": [
    "\n",
    "train=ts[0:300] \n",
    "test=ts[300:]\n",
    "#print(ts)\n",
    "#print(train)"
   ]
  },
  {
   "cell_type": "code",
   "execution_count": 61,
   "metadata": {},
   "outputs": [
    {
     "data": {
      "text/plain": [
       "[<matplotlib.lines.Line2D at 0x1c19dcbb00>]"
      ]
     },
     "execution_count": 61,
     "metadata": {},
     "output_type": "execute_result"
    },
    {
     "data": {
      "image/png": "[encoded data removed]",
      "text/plain": [
       "<Figure size 432x288 with 1 Axes>"
      ]
     },
     "metadata": {
      "needs_background": "light"
     },
     "output_type": "display_data"
    }
   ],
   "source": [
    "plt.plot(ts)"
   ]
  },
  {
   "cell_type": "code",
   "execution_count": 62,
   "metadata": {},
   "outputs": [
    {
     "data": {
      "text/plain": [
       "[<matplotlib.lines.Line2D at 0x1c29bbff28>]"
      ]
     },
     "execution_count": 62,
     "metadata": {},
     "output_type": "execute_result"
    },
    {
     "data": {
      "image/png": "[encoded data removed]",
      "text/plain": [
       "<Figure size 432x288 with 1 Axes>"
      ]
     },
     "metadata": {
      "needs_background": "light"
     },
     "output_type": "display_data"
    }
   ],
   "source": [
    "ts_log = np.log(ts)\n",
    "plt.plot(ts_log)"
   ]
  },
  {
   "cell_type": "code",
   "execution_count": 63,
   "metadata": {},
   "outputs": [],
   "source": [
    "#ts_year = ts.resample('d').mean()\n",
    "#plt.plot(ts_year)"
   ]
  },
  {
   "cell_type": "code",
   "execution_count": 64,
   "metadata": {},
   "outputs": [
    {
     "data": {
      "image/png": "[encoded data removed]",
      "text/plain": [
       "<Figure size 432x288 with 1 Axes>"
      ]
     },
     "metadata": {
      "needs_background": "light"
     },
     "output_type": "display_data"
    },
    {
     "name": "stdout",
     "output_type": "stream",
     "text": [
      "Results of Dickey-Fuller Test:\n",
      "Test Statistic                -1.046667e+01\n",
      "p-value                        1.316249e-18\n",
      "#Lags Used                     4.400000e+01\n",
      "Number of Observations Used    1.734800e+04\n",
      "Critical Value (1%)           -3.430727e+00\n",
      "Critical Value (5%)           -2.861707e+00\n",
      "Critical Value (10%)          -2.566859e+00\n",
      "dtype: float64\n"
     ]
    }
   ],
   "source": [
    "from statsmodels.tsa.stattools import adfuller\n",
    "def test_stationarity(timeseries):\n",
    "    \n",
    "    #Determing rolling statistics\n",
    "    rolmean = timeseries.rolling(12).mean()\n",
    "    rolstd = timeseries.rolling(12).std()\n",
    "\n",
    "    #Plot rolling statistics:\n",
    "    orig = plt.plot(timeseries, color='blue',label='Original')\n",
    "    mean = plt.plot(rolmean, color='red', label='Rolling Mean')\n",
    "    std = plt.plot(rolstd, color='black', label = 'Rolling Std')\n",
    "    plt.legend(loc='best')\n",
    "    plt.title('Rolling Mean & Standard Deviation')\n",
    "    plt.show(block=False)\n",
    "    \n",
    "    #Perform Dickey-Fuller test:\n",
    "    print('Results of Dickey-Fuller Test:')\n",
    "    dftest = adfuller(timeseries, autolag='AIC')\n",
    "    dfoutput = pd.Series(dftest[0:4], index=['Test Statistic',\n",
    "                        'p-value','#Lags Used','Number of Observations Used'])\n",
    "    for key,value in dftest[4].items():\n",
    "        dfoutput['Critical Value (%s)'%key] = value\n",
    "    print(dfoutput)\n",
    "    \n",
    "\n",
    "ts1 = ts\n",
    "test_stationarity(ts1)"
   ]
  },
  {
   "cell_type": "code",
   "execution_count": 67,
   "metadata": {},
   "outputs": [
    {
     "ename": "ValueError",
     "evalue": "You must specify a freq or x must be a pandas object with a timeseries index with a freq not set to None",
     "output_type": "error",
     "traceback": [
      "\u001b[0;31m---------------------------------------------------------------------------\u001b[0m",
      "\u001b[0;31mValueError\u001b[0m                                Traceback (most recent call last)",
      "\u001b[0;32m<ipython-input-67-be178f30ca22>\u001b[0m in \u001b[0;36m<module>\u001b[0;34m\u001b[0m\n\u001b[1;32m      1\u001b[0m \u001b[0;32mfrom\u001b[0m \u001b[0mstatsmodels\u001b[0m\u001b[0;34m.\u001b[0m\u001b[0mtsa\u001b[0m\u001b[0;34m.\u001b[0m\u001b[0mseasonal\u001b[0m \u001b[0;32mimport\u001b[0m \u001b[0mseasonal_decompose\u001b[0m\u001b[0;34m\u001b[0m\u001b[0;34m\u001b[0m\u001b[0m\n\u001b[1;32m      2\u001b[0m \u001b[0;34m\u001b[0m\u001b[0m\n\u001b[0;32m----> 3\u001b[0;31m \u001b[0mdecomposition\u001b[0m \u001b[0;34m=\u001b[0m \u001b[0mseasonal_decompose\u001b[0m\u001b[0;34m(\u001b[0m\u001b[0mdata\u001b[0m\u001b[0;34m[\u001b[0m\u001b[0;34m'Global_active_power'\u001b[0m\u001b[0;34m]\u001b[0m\u001b[0;34m,\u001b[0m \u001b[0mmodel\u001b[0m\u001b[0;34m=\u001b[0m\u001b[0;34m'multiplicative'\u001b[0m\u001b[0;34m)\u001b[0m\u001b[0;34m\u001b[0m\u001b[0;34m\u001b[0m\u001b[0m\n\u001b[0m\u001b[1;32m      4\u001b[0m \u001b[0mtrend\u001b[0m \u001b[0;34m=\u001b[0m \u001b[0mdecomposition\u001b[0m\u001b[0;34m.\u001b[0m\u001b[0mtrend\u001b[0m\u001b[0;34m\u001b[0m\u001b[0;34m\u001b[0m\u001b[0m\n\u001b[1;32m      5\u001b[0m \u001b[0mseasonal\u001b[0m \u001b[0;34m=\u001b[0m \u001b[0mdecomposition\u001b[0m\u001b[0;34m.\u001b[0m\u001b[0mseasonal\u001b[0m\u001b[0;34m\u001b[0m\u001b[0;34m\u001b[0m\u001b[0m\n",
      "\u001b[0;32m~/anaconda3/lib/python3.7/site-packages/statsmodels/tsa/seasonal.py\u001b[0m in \u001b[0;36mseasonal_decompose\u001b[0;34m(x, model, filt, freq, two_sided, extrapolate_trend)\u001b[0m\n\u001b[1;32m    125\u001b[0m             \u001b[0mfreq\u001b[0m \u001b[0;34m=\u001b[0m \u001b[0mpfreq\u001b[0m\u001b[0;34m\u001b[0m\u001b[0;34m\u001b[0m\u001b[0m\n\u001b[1;32m    126\u001b[0m         \u001b[0;32melse\u001b[0m\u001b[0;34m:\u001b[0m\u001b[0;34m\u001b[0m\u001b[0;34m\u001b[0m\u001b[0m\n\u001b[0;32m--> 127\u001b[0;31m             raise ValueError(\"You must specify a freq or x must be a \"\n\u001b[0m\u001b[1;32m    128\u001b[0m                              \u001b[0;34m\"pandas object with a timeseries index with \"\u001b[0m\u001b[0;34m\u001b[0m\u001b[0;34m\u001b[0m\u001b[0m\n\u001b[1;32m    129\u001b[0m                              \"a freq not set to None\")\n",
      "\u001b[0;31mValueError\u001b[0m: You must specify a freq or x must be a pandas object with a timeseries index with a freq not set to None"
     ]
    }
   ],
   "source": [
    "from statsmodels.tsa.seasonal import seasonal_decompose\n",
    "\n",
    "decomposition = seasonal_decompose(data['Global_active_power'], model='multiplicative')\n",
    "trend = decomposition.trend\n",
    "seasonal = decomposition.seasonal\n",
    "residual = decomposition.resid\n",
    "\n",
    "plt.subplot(411)\n",
    "plt.plot(ts_log, label='Original')\n",
    "plt.legend(loc='best')\n",
    "plt.subplot(412)\n",
    "plt.plot(trend, label='Trend')\n",
    "plt.legend(loc='best')\n",
    "plt.subplot(413)\n",
    "plt.plot(seasonal,label='Seasonality')\n",
    "plt.legend(loc='best')\n",
    "plt.subplot(414)\n",
    "plt.plot(residual, label='Residuals')\n",
    "plt.legend(loc='best')\n",
    "plt.tight_layout()"
   ]
  },
  {
   "cell_type": "code",
   "execution_count": null,
   "metadata": {},
   "outputs": [],
   "source": [
    "val = train[len(train)-1]\n",
    "y_hat = pd.Series(np.full(shape=len(test),fill_value=val),test.index) \n",
    "\n",
    "plt.figure(figsize=(12,8))\n",
    "plt.plot(train.index, train, label='Train')\n",
    "plt.plot(test.index,test, label='Test')\n",
    "plt.plot(y_hat.index, y_hat, label='Naive Forecast')\n",
    "plt.legend(loc='best')\n",
    "plt.title(\"Naive Forecast\")\n",
    "plt.show()"
   ]
  },
  {
   "cell_type": "code",
   "execution_count": null,
   "metadata": {},
   "outputs": [],
   "source": [
    "from sklearn.metrics import mean_squared_error\n",
    "rms = math.sqrt(mean_squared_error(test, y_hat))\n",
    "print(rms)"
   ]
  },
  {
   "cell_type": "code",
   "execution_count": null,
   "metadata": {},
   "outputs": [],
   "source": [
    "# Moving average\n",
    "val = train.rolling(12).mean().iloc[-1]\n",
    "y_hat_avg = pd.Series(np.full(shape=len(test),fill_value=val),test.index) \n",
    "\n",
    "plt.figure(figsize=(16,8))\n",
    "plt.plot(train, label='Train')\n",
    "plt.plot(test, label='Test')\n",
    "plt.plot(y_hat_avg, label='Moving Average Forecast')\n",
    "plt.legend(loc='best')\n",
    "plt.show()"
   ]
  },
  {
   "cell_type": "code",
   "execution_count": null,
   "metadata": {},
   "outputs": [],
   "source": [
    "print(np.where(np.isnan(test)))\n",
    "\n",
    "rms = math.sqrt(mean_squared_error(test, y_hat_avg))\n",
    "print(rms)"
   ]
  },
  {
   "cell_type": "code",
   "execution_count": null,
   "metadata": {},
   "outputs": [],
   "source": [
    "from statsmodels.tsa.api import ExponentialSmoothing, SimpleExpSmoothing, Holt\n",
    "#error? change 'scipy.misc import logsumexp' to 'from scipy.special import logsumexp'\n",
    "\n",
    "fit2 = SimpleExpSmoothing(np.asarray(train)).fit(smoothing_level=0.6,optimized=False)\n",
    "series = fit2.forecast(len(test))\n",
    "y_hat_ses = pd.Series(series, test.index)\n",
    "\n",
    "plt.figure(figsize=(16,8))\n",
    "plt.plot(train, label='Train')\n",
    "plt.plot(test, label='Test')\n",
    "plt.plot(y_hat_ses, label='SES')\n",
    "plt.legend(loc='best')\n",
    "plt.show()"
   ]
  },
  {
   "cell_type": "code",
   "execution_count": null,
   "metadata": {},
   "outputs": [],
   "source": [
    "rms = math.sqrt(mean_squared_error(test, y_hat_ses))\n",
    "print(rms)"
   ]
  },
  {
   "cell_type": "code",
   "execution_count": null,
   "metadata": {},
   "outputs": [],
   "source": [
    "import statsmodels.api as sm\n",
    "\n",
    "sm.tsa.seasonal_decompose(train).plot()\n",
    "result = sm.tsa.stattools.adfuller(train)\n",
    "plt.show()"
   ]
  },
  {
   "cell_type": "code",
   "execution_count": null,
   "metadata": {},
   "outputs": [],
   "source": []
  },
  {
   "cell_type": "code",
   "execution_count": null,
   "metadata": {},
   "outputs": [],
   "source": []
  },
  {
   "cell_type": "code",
   "execution_count": null,
   "metadata": {},
   "outputs": [],
   "source": []
  },
  {
   "cell_type": "code",
   "execution_count": null,
   "metadata": {},
   "outputs": [],
   "source": []
  },
  {
   "cell_type": "code",
   "execution_count": null,
   "metadata": {},
   "outputs": [],
   "source": []
  },
  {
   "cell_type": "code",
   "execution_count": null,
   "metadata": {},
   "outputs": [],
   "source": []
  }
 ],
 "metadata": {
  "kernelspec": {
   "display_name": "Python 3",
   "language": "python",
   "name": "python3"
  },
  "language_info": {
   "codemirror_mode": {
    "name": "ipython",
    "version": 3
   },
   "file_extension": ".py",
   "mimetype": "text/x-python",
   "name": "python",
   "nbconvert_exporter": "python",
   "pygments_lexer": "ipython3",
   "version": "3.7.3"
  }
 },
 "nbformat": 4,
 "nbformat_minor": 2
}
