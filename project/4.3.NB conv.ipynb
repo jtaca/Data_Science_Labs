{
 "cells": [
  {
   "cell_type": "code",
   "execution_count": null,
   "metadata": {},
   "outputs": [],
   "source": []
  },
  {
   "cell_type": "code",
   "execution_count": 52,
   "metadata": {},
   "outputs": [],
   "source": [
    "import matplotlib.pyplot as plt\n",
    "from mlxtend.evaluate import confusion_matrix\n",
    "from mlxtend.plotting import plot_confusion_matrix\n",
    "from sklearn.metrics import accuracy_score"
   ]
  },
  {
   "cell_type": "code",
   "execution_count": 62,
   "metadata": {},
   "outputs": [
    {
     "name": "stdout",
     "output_type": "stream",
     "text": [
      "Initial shape: (19229, 17)\n",
      "[[ 37 117   0   0  91   0  30]\n",
      " [ 20 143   1   1  96  10   3]\n",
      " [  0   0  11 101  98  65   0]\n",
      " [  0   0   0 266   0   9   0]\n",
      " [ 11 103   0   0 156   4   1]\n",
      " [  0   0   2  63  73 136   0]\n",
      " [ 13  21   0   0  66   0 175]]\n"
     ]
    },
    {
     "data": {
      "image/png": "[encoded data removed]",
      "text/plain": [
       "<Figure size 432x288 with 1 Axes>"
      ]
     },
     "metadata": {
      "needs_background": "light"
     },
     "output_type": "display_data"
    },
    {
     "name": "stdout",
     "output_type": "stream",
     "text": [
      "Accuracy: 0.48\n"
     ]
    }
   ],
   "source": [
    "#convETC.csv\n",
    "#convAfterUndersampling\n",
    "#convKBest.csv\n",
    "\n",
    "from sklearn.preprocessing import MinMaxScaler\n",
    "import pandas as pd\n",
    "from sklearn.model_selection import train_test_split\n",
    "\n",
    "PDdata = pd.read_csv('convETC.csv', sep=',')\n",
    "X = PDdata.drop(columns=['Cover_Type'])\n",
    "y = PDdata['Cover_Type'].values\n",
    "\n",
    "PDdata.describe(include='all')\n",
    "\n",
    "#from sklearn.metrics import silhouette_score, adjusted_rand_score, confusion_matrix, multilabel_confusion_matrix\n",
    "print(\"Initial shape: \"+str(X.shape))\n",
    "X = MinMaxScaler().fit_transform(X)\n",
    "X = pd.DataFrame(X)\n",
    "labels = pd.unique(y)\n",
    "X_train, X_test, y_train, y_test = train_test_split(X, y, test_size=0.1, random_state=None, stratify=y)\n",
    "\n",
    "\n",
    "from sklearn.naive_bayes import MultinomialNB, GaussianNB, BernoulliNB\n",
    "gaussNB = BernoulliNB()\n",
    "gaussNB.fit(X_train, y_train)\n",
    "y_predict = gaussNB.predict(X_test)\n",
    "\n",
    "#acu = accuracy_score(y_test, y_predict)\n",
    "#print(\"Accuracy:\", round(acu,2))\n",
    "cm = confusion_matrix(y_target=y_test, \n",
    "                      y_predicted=y_predict, \n",
    "                      binary=False)\n",
    "print(cm)\n",
    "\n",
    "fig, ax = plot_confusion_matrix(conf_mat=cm)\n",
    "plt.show()\n",
    "\n",
    "acu = accuracy_score(y_test, y_predict)\n",
    "print(\"Accuracy:\", round(acu,2))"
   ]
  },
  {
   "cell_type": "code",
   "execution_count": null,
   "metadata": {},
   "outputs": [],
   "source": []
  },
  {
   "cell_type": "code",
   "execution_count": null,
   "metadata": {},
   "outputs": [],
   "source": []
  }
 ],
 "metadata": {
  "kernelspec": {
   "display_name": "Python 3",
   "language": "python",
   "name": "python3"
  },
  "language_info": {
   "codemirror_mode": {
    "name": "ipython",
    "version": 3
   },
   "file_extension": ".py",
   "mimetype": "text/x-python",
   "name": "python",
   "nbconvert_exporter": "python",
   "pygments_lexer": "ipython3",
   "version": "3.7.3"
  }
 },
 "nbformat": 4,
 "nbformat_minor": 2
}
