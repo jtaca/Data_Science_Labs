{
 "cells": [
  {
   "cell_type": "code",
   "execution_count": 173,
   "metadata": {},
   "outputs": [],
   "source": [
    "import time, warnings\n",
    "import matplotlib.pyplot as plt\n",
    "import pandas as pd\n",
    "import numpy as np\n",
    "from itertools import cycle, islice\n",
    "from sklearn import datasets, cluster, mixture\n",
    "from sklearn.preprocessing import StandardScaler\n",
    "from sklearn.metrics import silhouette_score, adjusted_rand_score, confusion_matrix, multilabel_confusion_matrix\n",
    "from sklearn.preprocessing import Normalizer, StandardScaler, MinMaxScaler\n",
    "from imblearn.over_sampling import SMOTE\n",
    "from sklearn.model_selection import train_test_split\n",
    "from sklearn.tree import DecisionTreeClassifier\n",
    "from sklearn.metrics import accuracy_score\n",
    "from sklearn.utils.multiclass import unique_labels\n",
    "\n",
    "def multiple_bar_chart(ax: plt.Axes, xvalues: list, yvalues: dict, title: str, xlabel: str, ylabel: str, percentage=False):\n",
    "\n",
    "    ax.set_title(title)\n",
    "    ax.set_xlabel(xlabel)\n",
    "    ax.set_ylabel(ylabel)\n",
    "    x = np.arange(len(xvalues))  # the label locations\n",
    "    ax.set_xticks(x)\n",
    "    ax.set_xticklabels(xvalues, fontsize='small')\n",
    "    if percentage:\n",
    "        ax.set_ylim(0.0, 1.0)\n",
    "    width = 0.8  # the width of the bars\n",
    "    step = width / len(yvalues)\n",
    "    k = 0\n",
    "    for name, y in yvalues.items():\n",
    "        ax.bar(x + k * step, y, step, label=name)\n",
    "        k += 1\n",
    "    ax.legend(loc='lower center', ncol=len(yvalues), bbox_to_anchor=(0.5, -0.2), fancybox = True, shadow = True) \n",
    "    \n",
    "def multiple_line_chart(ax: plt.Axes, xvalues: list, yvalues: dict, title: str, xlabel: str, ylabel: str, miny=0.5, maxy=0.9, percentage=False):\n",
    "    legend: list = []\n",
    "    ax.set_title(title)\n",
    "    ax.set_xlabel(xlabel)\n",
    "    ax.set_ylabel(ylabel)\n",
    "    if percentage:\n",
    "        ax.set_ylim(miny, maxy)\n",
    "    for name, y in yvalues.items():\n",
    "        ax.plot(xvalues, y)\n",
    "        legend.append(name)\n",
    "    ax.legend(legend, loc='best', fancybox = True, shadow = True)\n",
    "    \n",
    "def plot_confusion_matrix(y_true, y_pred, classes,\n",
    "                          normalize=False,\n",
    "                          title=None,\n",
    "                          cmap=plt.cm.Blues):\n",
    "    \"\"\"\n",
    "    This function prints and plots the confusion matrix.\n",
    "    Normalization can be applied by setting `normalize=True`.\n",
    "    \"\"\"\n",
    "    if not title:\n",
    "        if normalize:\n",
    "            title = 'Normalized confusion matrix'\n",
    "        else:\n",
    "            title = 'Confusion matrix, without normalization'\n",
    "\n",
    "    # Compute confusion matrix\n",
    "    cm = confusion_matrix(y_true, y_pred)\n",
    "    # Only use the labels that appear in the data\n",
    "    classes = classes[unique_labels(y_true, y_pred)]\n",
    "    print(classes)\n",
    "    if normalize:\n",
    "        cm = cm.astype('float') / cm.sum(axis=1)[:, np.newaxis]\n",
    "        print(\"Normalized confusion matrix\")\n",
    "    else:\n",
    "        print('Confusion matrix, without normalization')\n",
    "\n",
    "    print(cm)\n",
    "\n",
    "    fig, ax = plt.subplots()\n",
    "    im = ax.imshow(cm, interpolation='nearest', cmap=cmap)\n",
    "    ax.figure.colorbar(im, ax=ax)\n",
    "    # We want to show all ticks...\n",
    "    ax.set(xticks=np.arange(cm.shape[1]),\n",
    "           yticks=np.arange(cm.shape[0]),\n",
    "           # ... and label them with the respective list entries\n",
    "           xticklabels=classes, yticklabels=classes,\n",
    "           title=title,\n",
    "           ylabel='True label',\n",
    "           xlabel='Predicted label')\n",
    "\n",
    "    # Rotate the tick labels and set their alignment.\n",
    "    plt.setp(ax.get_xticklabels(), rotation=45, ha=\"right\",\n",
    "             rotation_mode=\"anchor\")\n",
    "\n",
    "    # Loop over data dimensions and create text annotations.\n",
    "    fmt = '.2f' if normalize else 'd'\n",
    "    thresh = cm.max() / 2.\n",
    "    for i in range(cm.shape[0]):\n",
    "        for j in range(cm.shape[1]):\n",
    "            ax.text(j, i, format(cm[i, j], fmt),\n",
    "                    ha=\"center\", va=\"center\",\n",
    "                    color=\"white\" if cm[i, j] > thresh else \"black\")\n",
    "    fig.tight_layout()\n",
    "    return ax"
   ]
  },
  {
   "cell_type": "markdown",
   "metadata": {},
   "source": [
    "We are using scikit-learn decision tree classification which uses an optimised version of the CART algorithm."
   ]
  },
  {
   "cell_type": "markdown",
   "metadata": {},
   "source": [
    "# PD Speech Features dataset"
   ]
  },
  {
   "cell_type": "code",
   "execution_count": 174,
   "metadata": {},
   "outputs": [
    {
     "name": "stdout",
     "output_type": "stream",
     "text": [
      "Unbal - Majority class: 188\n",
      "Unbal - Minority class: 64\n",
      "Unbal - Proportion: 2.94 : 1\n"
     ]
    },
    {
     "data": {
      "image/png": "[encoded data removed]",
      "text/plain": [
       "<Figure size 432x288 with 1 Axes>"
      ]
     },
     "metadata": {
      "needs_background": "light"
     },
     "output_type": "display_data"
    }
   ],
   "source": [
    "data = pd.read_csv('pd_speech_features.csv', sep=',')\n",
    "data = data.sort_values('id', ascending=True)\n",
    "\n",
    "#Fazer a média das 3 medições com o mesmo id\n",
    "data = data.groupby('id').mean().reset_index()\n",
    "\n",
    "\n",
    "#Balancing with SMOTE\n",
    "\n",
    "unbal = data\n",
    "target_count = unbal['class'].value_counts()\n",
    "min_class = target_count.idxmin()\n",
    "ind_min_class = target_count.index.get_loc(min_class)\n",
    "\n",
    "print('Unbal - Majority class:', target_count[ind_min_class])\n",
    "print('Unbal - Minority class:', target_count[1-ind_min_class])\n",
    "print('Unbal - Proportion:', round(target_count[ind_min_class] / target_count[1-ind_min_class], 2), ': 1')\n",
    "\n",
    "RANDOM_STATE = 42\n",
    "values = {'Unbalanced data': [target_count.values[ind_min_class], target_count.values[1-ind_min_class]]}\n",
    "\n",
    "df_class_min = unbal[unbal['class'] == min_class]\n",
    "df_class_max = unbal[unbal['class'] != min_class] \n",
    "\n",
    "smote = SMOTE(ratio='minority', random_state=RANDOM_STATE)\n",
    "\n",
    "unbal_y = unbal.pop('class').values\n",
    "unbal_X = unbal.values\n",
    "\n",
    "X, y = smote.fit_sample(unbal_X, unbal_y)\n",
    "smote_target_count = pd.Series(y).value_counts()\n",
    "\n",
    "data = pd.DataFrame(X)\n",
    "data.columns = unbal.columns\n",
    "data['class'] = y\n",
    "\n",
    "values['SMOTE balanced data'] = [smote_target_count.values[ind_min_class], smote_target_count.values[1-ind_min_class]]\n",
    "\n",
    "plt.figure()\n",
    "multiple_bar_chart(plt.gca(), [target_count.index[ind_min_class], target_count.index[1-ind_min_class]], values, 'Target', 'frequency', 'Class balance')\n",
    "plt.show()"
   ]
  },
  {
   "cell_type": "code",
   "execution_count": 175,
   "metadata": {},
   "outputs": [],
   "source": [
    "# Normalization\n",
    "transf = StandardScaler().fit(data)\n",
    "data = pd.DataFrame(transf.transform(data), columns= data.columns)"
   ]
  },
  {
   "cell_type": "code",
   "execution_count": 176,
   "metadata": {},
   "outputs": [
    {
     "data": {
      "text/plain": [
       "(376, 755)"
      ]
     },
     "execution_count": 176,
     "metadata": {},
     "output_type": "execute_result"
    }
   ],
   "source": [
    "X = data.drop(columns=['class', 'id'])\n",
    "y = data['class'].values\n",
    "\n",
    "X_train, X_test, y_train, y_test = train_test_split(X, y, test_size=0.3, random_state=1, stratify=y)\n",
    "\n",
    "data.shape"
   ]
  },
  {
   "cell_type": "code",
   "execution_count": 177,
   "metadata": {},
   "outputs": [
    {
     "data": {
      "image/png": "[encoded data removed]",
      "text/plain": [
       "<Figure size 432x288 with 1 Axes>"
      ]
     },
     "metadata": {
      "needs_background": "light"
     },
     "output_type": "display_data"
    },
    {
     "name": "stdout",
     "output_type": "stream",
     "text": [
      "Best value: 5\n",
      "Best acu: 0.8761061946902655\n"
     ]
    }
   ],
   "source": [
    "max_depths = range(2, 30, 1)\n",
    "criteria = ['entropy', 'gini']\n",
    "\n",
    "plt.figure()\n",
    "axs = plt.subplot(111)\n",
    "best_acu = 0\n",
    "best_value = 0\n",
    "values = {}\n",
    "for k in range(len(criteria)):\n",
    "    f = criteria[k]\n",
    "    yvalues = []\n",
    "    for n in max_depths:   \n",
    "        tree = DecisionTreeClassifier(max_depth=n, criterion=f, random_state=1)\n",
    "        tree.fit(X_train,y_train)\n",
    "        y_predict = tree.predict(X_test)\n",
    "        acu = accuracy_score(y_test, y_predict)\n",
    "        yvalues.append(acu)\n",
    "        if acu > best_acu and k == 0:\n",
    "            best_acu = acu\n",
    "            best_value = n\n",
    "    values[f] = yvalues\n",
    "    \n",
    "multiple_line_chart(axs, max_depths, values, 'Decision Trees', 'max_depth', 'accuracy', 0.4, 1, percentage=True)    \n",
    "plt.show()\n",
    "print(\"Best value:\", best_value)\n",
    "print(\"Best acu:\", best_acu)"
   ]
  },
  {
   "cell_type": "code",
   "execution_count": 178,
   "metadata": {},
   "outputs": [
    {
     "data": {
      "image/png": "[encoded data removed]",
      "text/plain": [
       "<Figure size 432x288 with 1 Axes>"
      ]
     },
     "metadata": {
      "needs_background": "light"
     },
     "output_type": "display_data"
    },
    {
     "name": "stdout",
     "output_type": "stream",
     "text": [
      "Best value: 0.1\n",
      "Best acu: 0.8761061946902655\n"
     ]
    }
   ],
   "source": [
    "min_samples_split = np.linspace(0.1, 1, 10)\n",
    "criteria = ['entropy', 'gini']\n",
    "\n",
    "plt.figure()\n",
    "axs = plt.subplot(111)\n",
    "best_acu = 0\n",
    "best_value = 0\n",
    "values = {}\n",
    "for k in range(len(criteria)):\n",
    "    f = criteria[k]\n",
    "    yvalues = []\n",
    "    for n in min_samples_split:   \n",
    "        tree = DecisionTreeClassifier( min_samples_split=n, criterion=f, random_state=1)\n",
    "        tree.fit(X_train,y_train)\n",
    "        y_predict = tree.predict(X_test)\n",
    "        acu = accuracy_score(y_test, y_predict)\n",
    "        yvalues.append(acu)\n",
    "        if acu > best_acu and k == 0:\n",
    "            best_acu = acu\n",
    "            best_value = n\n",
    "    values[f] = yvalues\n",
    "    \n",
    "multiple_line_chart(axs, min_samples_split, values, 'Decision Trees', 'min_samples_split', 'accuracy', 0, 1, percentage=True)    \n",
    "plt.show()\n",
    "print(\"Best value:\", best_value)\n",
    "print(\"Best acu:\", best_acu)"
   ]
  },
  {
   "cell_type": "code",
   "execution_count": 179,
   "metadata": {},
   "outputs": [
    {
     "data": {
      "image/png": "[encoded data removed]",
      "text/plain": [
       "<Figure size 432x288 with 1 Axes>"
      ]
     },
     "metadata": {
      "needs_background": "light"
     },
     "output_type": "display_data"
    },
    {
     "name": "stdout",
     "output_type": "stream",
     "text": [
      "Best value: 0.04\n",
      "Best acu: 0.8761061946902655\n"
     ]
    }
   ],
   "source": [
    "min_samples_leaf = np.linspace(0.04, 0.5, 11)\n",
    "criteria = ['entropy', 'gini']\n",
    "\n",
    "plt.figure()\n",
    "axs = plt.subplot(111)\n",
    "best_acu = 0\n",
    "best_value = 0\n",
    "values = {}\n",
    "for k in range(len(criteria)):\n",
    "    f = criteria[k]\n",
    "    yvalues = []\n",
    "    for n in min_samples_leaf:   \n",
    "        tree = DecisionTreeClassifier( min_samples_leaf=n, criterion=f, random_state=1)\n",
    "        tree.fit(X_train,y_train)\n",
    "        y_predict = tree.predict(X_test)\n",
    "        acu = accuracy_score(y_test, y_predict)\n",
    "        yvalues.append(acu)\n",
    "        if acu >= best_acu and k == 0:\n",
    "            best_acu = acu\n",
    "            best_value = n\n",
    "    values[f] = yvalues\n",
    "    \n",
    "multiple_line_chart(axs, min_samples_leaf, values, 'Decision Trees', 'min_samples_leaf', 'accuracy', 0, 1, percentage=True)    \n",
    "plt.show()\n",
    "print(\"Best value:\", best_value)\n",
    "print(\"Best acu:\", best_acu)"
   ]
  },
  {
   "cell_type": "code",
   "execution_count": 180,
   "metadata": {},
   "outputs": [
    {
     "name": "stdout",
     "output_type": "stream",
     "text": [
      "Accuracy: 0.81\n",
      "Total depth: 7\n",
      "Specificity:  0.88\n",
      "Sensitivity:  0.74\n",
      "[[49  7]\n",
      " [15 42]]\n",
      "\n",
      "Accuracy: 0.88\n",
      "Total depth: 5\n",
      "Specificity:  0.93\n",
      "Sensitivity:  0.82\n",
      "[[52  4]\n",
      " [10 47]]\n"
     ]
    }
   ],
   "source": [
    "tree = DecisionTreeClassifier(random_state=1)\n",
    "tree.fit(X_train,y_train)\n",
    "y_predict = tree.predict(X_test)\n",
    "acu = accuracy_score(y_test, y_predict)\n",
    "print(\"Accuracy:\", round(acu,2))\n",
    "print(\"Total depth:\", tree.tree_.max_depth)\n",
    "tn, fp, fn, tp = confusion_matrix(y_test, y_predict).ravel()\n",
    "specificity = tn / (tn+fp)\n",
    "print(\"Specificity: \", round(specificity,2))\n",
    "sensitivity = tp / (tp + fn)\n",
    "print(\"Sensitivity: \", round(sensitivity,2))\n",
    "confusion = confusion_matrix(y_test, y_predict)\n",
    "print(confusion)\n",
    "print(\"\")\n",
    "\n",
    "tree = DecisionTreeClassifier(max_depth=5, min_samples_split=0.1, min_samples_leaf=0.04, criterion=\"entropy\", random_state=1)\n",
    "tree.fit(X_train,y_train)\n",
    "y_predict = tree.predict(X_test)\n",
    "acu = accuracy_score(y_test, y_predict)\n",
    "print(\"Accuracy:\", round(acu,2))\n",
    "print(\"Total depth:\", tree.tree_.max_depth)\n",
    "tn, fp, fn, tp = confusion_matrix(y_test, y_predict).ravel()\n",
    "specificity = tn / (tn+fp)\n",
    "print(\"Specificity: \", round(specificity,2))\n",
    "sensitivity = tp / (tp + fn)\n",
    "print(\"Sensitivity: \", round(sensitivity,2))\n",
    "confusion = confusion_matrix(y_test, y_predict)\n",
    "print(confusion)"
   ]
  },
  {
   "cell_type": "markdown",
   "metadata": {},
   "source": [
    "|           | Total nodes | Accuracy | Sensitivity | Specificity |\n",
    "|-----------|-------------|----------|-------------|-------------|\n",
    "| Default   | 7           | 0,81     | 0,74        | 0,88        |\n",
    "| Optimized | 5           | 0,88     | 0,82        | 0,93        |"
   ]
  },
  {
   "cell_type": "markdown",
   "metadata": {},
   "source": [
    "# Covtype dataset"
   ]
  },
  {
   "cell_type": "code",
   "execution_count": 189,
   "metadata": {},
   "outputs": [
    {
     "name": "stdout",
     "output_type": "stream",
     "text": [
      "(581012, 55)\n",
      "No missing values\n",
      "No category type columns!\n",
      "Resampled dataset shape Counter({1: 2747, 2: 2747, 3: 2747, 4: 2747, 5: 2747, 6: 2747, 7: 2747})\n",
      "(19229, 55)\n"
     ]
    }
   ],
   "source": [
    "data = pd.read_csv('covtype.csv', sep=',')\n",
    "X = data\n",
    "y = data['Cover_Type'].values\n",
    "print(X.shape)\n",
    "\n",
    "# não há missing values\n",
    "from sklearn.impute import SimpleImputer\n",
    "\n",
    "try:\n",
    "    imp_nr = SimpleImputer(strategy='mean', missing_values=np.nan, copy=True)\n",
    "    imp_sb = SimpleImputer(strategy='most_frequent', missing_values='', copy=True)\n",
    "    df_nr = pd.DataFrame(imp_nr.fit_transform(cols_nr), columns=cols_nr.columns)\n",
    "    df_sb = pd.DataFrame(imp_sb.fit_transform(cols_sb), columns=cols_sb.columns)\n",
    "except:\n",
    "    print(\"No missing values\") \n",
    "\n",
    "#Não se faz dummify, pois não existem features do tipo category \n",
    "cols_sb = data.select_dtypes(include='category')\n",
    "if cols_sb.empty:\n",
    "    print('No category type columns!') #shows no categoriy types in the dataset\n",
    "else:\n",
    "    print('Exists category type columns!')\n",
    "\n",
    "\n",
    "# under sampling\n",
    "from imblearn.under_sampling import RandomUnderSampler\n",
    "from collections import Counter\n",
    "\n",
    "sampler = RandomUnderSampler(random_state=12)\n",
    "X_res, y_res = sampler.fit_resample(X, y)\n",
    "print('Resampled dataset shape %s' % Counter(y_res))\n",
    "print(X_res.shape)\n",
    "\n",
    "# Hold-Out \n",
    "\n",
    "# normalize\n",
    "from sklearn.preprocessing import Normalizer\n",
    "\n",
    "data = pd.DataFrame(X_res, columns=data.columns)\n",
    "data['Cover_Type'] = y_res"
   ]
  },
  {
   "cell_type": "code",
   "execution_count": 190,
   "metadata": {},
   "outputs": [
    {
     "data": {
      "text/plain": [
       "(19229, 55)"
      ]
     },
     "execution_count": 190,
     "metadata": {},
     "output_type": "execute_result"
    }
   ],
   "source": [
    "X = data.drop(columns=['Cover_Type'])\n",
    "y = data['Cover_Type'].values\n",
    "\n",
    "X_train, X_test, y_train, y_test = train_test_split(X, y, test_size=0.2, random_state=1, stratify=y)\n",
    "\n",
    "data.shape"
   ]
  },
  {
   "cell_type": "code",
   "execution_count": 191,
   "metadata": {},
   "outputs": [
    {
     "data": {
      "image/png": "[encoded data removed]",
      "text/plain": [
       "<Figure size 432x288 with 1 Axes>"
      ]
     },
     "metadata": {
      "needs_background": "light"
     },
     "output_type": "display_data"
    },
    {
     "name": "stdout",
     "output_type": "stream",
     "text": [
      "Best value: 13\n",
      "Best acu: 0.8122724908996359\n"
     ]
    }
   ],
   "source": [
    "max_depths = range(2, 40, 1)\n",
    "criteria = ['entropy', 'gini']\n",
    "\n",
    "plt.figure()\n",
    "axs = plt.subplot(111)\n",
    "best_acu = 0\n",
    "best_value = 0\n",
    "values = {}\n",
    "for k in range(len(criteria)):\n",
    "    f = criteria[k]\n",
    "    yvalues = []\n",
    "    for n in max_depths:   \n",
    "        tree = DecisionTreeClassifier(max_depth=n, criterion=f, random_state=1)\n",
    "        tree.fit(X_train,y_train)\n",
    "        y_predict = tree.predict(X_test)\n",
    "        acu = accuracy_score(y_test, y_predict)\n",
    "        yvalues.append(acu)\n",
    "        if acu > best_acu and k == 1:\n",
    "            best_acu = acu\n",
    "            best_value = n\n",
    "    values[f] = yvalues\n",
    "    \n",
    "multiple_line_chart(axs, max_depths, values, 'Decision Trees', 'max_depth', 'accuracy', 0.4, 1, percentage=True)    \n",
    "plt.show()\n",
    "print(\"Best value:\", best_value)\n",
    "print(\"Best acu:\", best_acu)"
   ]
  },
  {
   "cell_type": "markdown",
   "metadata": {},
   "source": [
    "The performance of the decision tree doesn't change significantly by changing the criterion that measures the quality of a split."
   ]
  },
  {
   "cell_type": "code",
   "execution_count": 192,
   "metadata": {},
   "outputs": [
    {
     "data": {
      "image/png": "[encoded data removed]",
      "text/plain": [
       "<Figure size 432x288 with 1 Axes>"
      ]
     },
     "metadata": {
      "needs_background": "light"
     },
     "output_type": "display_data"
    },
    {
     "name": "stdout",
     "output_type": "stream",
     "text": [
      "Best value: 0.0002\n",
      "Best acu: 0.8104524180967239\n"
     ]
    }
   ],
   "source": [
    "min_samples_split = np.linspace(0.0002, 1, 50)\n",
    "criteria = ['entropy', 'gini']\n",
    "\n",
    "plt.figure()\n",
    "axs = plt.subplot(111)\n",
    "best_acu = 0\n",
    "best_value = 0\n",
    "values = {}\n",
    "for k in range(len(criteria)):\n",
    "    f = criteria[k]\n",
    "    yvalues = []\n",
    "    for n in min_samples_split:   \n",
    "        tree = DecisionTreeClassifier( min_samples_split=n, criterion=f, random_state=1)\n",
    "        tree.fit(X_train,y_train)\n",
    "        y_predict = tree.predict(X_test)\n",
    "        acu = accuracy_score(y_test, y_predict)\n",
    "        yvalues.append(acu)\n",
    "        if acu > best_acu and k == 1:\n",
    "            best_acu = acu\n",
    "            best_value = n\n",
    "    values[f] = yvalues\n",
    "    \n",
    "multiple_line_chart(axs, min_samples_split, values, 'Decision Trees', 'min_samples_split', 'accuracy', 0, 1, percentage=True)    \n",
    "plt.show()\n",
    "print(\"Best value:\", best_value)\n",
    "print(\"Best acu:\", best_acu)"
   ]
  },
  {
   "cell_type": "markdown",
   "metadata": {},
   "source": [
    "As seen in the plot, the more we constrain the tree with the minimum samples needed to split a node, the less the tree is able to learn correctly. This constrain is also not affected by the differents criterions that meaasures the quality of the split."
   ]
  },
  {
   "cell_type": "code",
   "execution_count": 193,
   "metadata": {},
   "outputs": [
    {
     "data": {
      "image/png": "[encoded data removed]",
      "text/plain": [
       "<Figure size 432x288 with 1 Axes>"
      ]
     },
     "metadata": {
      "needs_background": "light"
     },
     "output_type": "display_data"
    },
    {
     "name": "stdout",
     "output_type": "stream",
     "text": [
      "Best value: 5e-05\n",
      "Best acu: 0.8070722828913156\n"
     ]
    }
   ],
   "source": [
    "min_samples_leaf = np.linspace(0.00005, 0.5, 20)\n",
    "criteria = ['entropy', 'gini']\n",
    "\n",
    "plt.figure()\n",
    "axs = plt.subplot(111)\n",
    "best_acu = 0\n",
    "best_value = 0\n",
    "values = {}\n",
    "for k in range(len(criteria)):\n",
    "    f = criteria[k]\n",
    "    yvalues = []\n",
    "    for n in min_samples_leaf:   \n",
    "        tree = DecisionTreeClassifier( min_samples_leaf=n, criterion=f, random_state=1)\n",
    "        tree.fit(X_train,y_train)\n",
    "        y_predict = tree.predict(X_test)\n",
    "        acu = accuracy_score(y_test, y_predict)\n",
    "        yvalues.append(acu)\n",
    "        if acu >= best_acu and k == 1:\n",
    "            best_acu = acu\n",
    "            best_value = n\n",
    "    values[f] = yvalues\n",
    "    \n",
    "multiple_line_chart(axs, min_samples_leaf, values, 'Decision Trees', 'min_samples_leaf', 'accuracy', 0, 1, percentage=True)    \n",
    "plt.show()\n",
    "print(\"Best value:\", best_value)\n",
    "print(\"Best acu:\", best_acu)"
   ]
  },
  {
   "cell_type": "markdown",
   "metadata": {},
   "source": [
    "The more we increase the min_samples_leaf the more samples the node has to have in the left and right branches after splitting, this means the split won't happen if there are not enough leafs to respect this constrain. The plot starts at 0.00005 and we see this is the best value to obtain the best accuracy with our decision tree."
   ]
  },
  {
   "cell_type": "code",
   "execution_count": 194,
   "metadata": {},
   "outputs": [
    {
     "name": "stdout",
     "output_type": "stream",
     "text": [
      "Accuracy: 0.81\n",
      "Total depth: 35\n",
      "Mean Specificity:  0.97\n",
      "Mean Sensitivity:  0.81\n",
      "\n",
      "Accuracy: 0.81\n",
      "Total depth: 13\n",
      "Mean Specificity:  0.97\n",
      "Mean Sensitivity:  0.81\n"
     ]
    }
   ],
   "source": [
    "tree = DecisionTreeClassifier(random_state=1)\n",
    "tree.fit(X_train,y_train)\n",
    "y_predict = tree.predict(X_test)\n",
    "acu = accuracy_score(y_test, y_predict)\n",
    "print(\"Accuracy:\", round(acu,2))\n",
    "print(\"Total depth:\", tree.tree_.max_depth)\n",
    "confusion = multilabel_confusion_matrix(y_test, y_predict)\n",
    "tn = confusion[:, 0, 0]\n",
    "tp = confusion[:, 1, 1]\n",
    "fn = confusion[:, 1, 0]\n",
    "fp = confusion[:, 0, 1]\n",
    "specificity = tn / (tn+fp)\n",
    "print(\"Mean Specificity: \", round(np.mean(specificity),2))\n",
    "sensitivity = tp / (tp + fn)\n",
    "print(\"Mean Sensitivity: \", round(np.mean(sensitivity),2))\n",
    "print(\"\")\n",
    "\n",
    "tree = DecisionTreeClassifier(max_depth=13, min_samples_split=0.0002, min_samples_leaf=0.00005, criterion=\"entropy\", random_state=1)\n",
    "tree.fit(X_train,y_train)\n",
    "y_predict = tree.predict(X_test)\n",
    "acu = accuracy_score(y_test, y_predict)\n",
    "print(\"Accuracy:\", round(acu,2))\n",
    "print(\"Total depth:\", tree.tree_.max_depth)\n",
    "confusion = multilabel_confusion_matrix(y_test, y_predict)\n",
    "tn = confusion[:, 0, 0]\n",
    "tp = confusion[:, 1, 1]\n",
    "fn = confusion[:, 1, 0]\n",
    "fp = confusion[:, 0, 1]\n",
    "specificity = tn / (tn+fp)\n",
    "print(\"Mean Specificity: \", round(np.mean(specificity),2))\n",
    "sensitivity = tp / (tp + fn)\n",
    "print(\"Mean Sensitivity: \", round(np.mean(sensitivity),2))"
   ]
  },
  {
   "cell_type": "markdown",
   "metadata": {},
   "source": [
    "|           | Total nodes | Accuracy | Mean Sensitivity | Mean Specificity |\n",
    "|-----------|-------------|----------|------------------|------------------|\n",
    "| Default   | 35          | 0,81     | 0,81             | 0,97             |\n",
    "| Optimized | 13          | 0,81     | 0,81             | 0,97             |"
   ]
  },
  {
   "cell_type": "code",
   "execution_count": null,
   "metadata": {},
   "outputs": [],
   "source": []
  },
  {
   "cell_type": "code",
   "execution_count": null,
   "metadata": {},
   "outputs": [],
   "source": []
  }
 ],
 "metadata": {
  "kernelspec": {
   "display_name": "Python 3",
   "language": "python",
   "name": "python3"
  },
  "language_info": {
   "codemirror_mode": {
    "name": "ipython",
    "version": 3
   },
   "file_extension": ".py",
   "mimetype": "text/x-python",
   "name": "python",
   "nbconvert_exporter": "python",
   "pygments_lexer": "ipython3",
   "version": "3.7.3"
  }
 },
 "nbformat": 4,
 "nbformat_minor": 2
}
