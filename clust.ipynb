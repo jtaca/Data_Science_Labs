{
 "cells": [
  {
   "cell_type": "code",
   "execution_count": 25,
   "metadata": {},
   "outputs": [],
   "source": [
    "import time, warnings\n",
    "import pandas as pd\n",
    "import numpy as np\n",
    "import matplotlib.pyplot as plt\n",
    "from itertools import cycle, islice\n",
    "from sklearn import datasets, metrics, cluster, mixture\n",
    "from sklearn.preprocessing import StandardScaler, Normalizer"
   ]
  },
  {
   "cell_type": "code",
   "execution_count": 37,
   "metadata": {},
   "outputs": [
    {
     "data": {
      "image/png": "[encoded data removed]",
      "text/plain": [
       "<Figure size 432x288 with 1 Axes>"
      ]
     },
     "metadata": {
      "needs_background": "light"
     },
     "output_type": "display_data"
    }
   ],
   "source": [
    "dataset = pd.read_csv('dataset1/pd_speech_features_copy1.csv', sep=',')\n",
    "dataset = dataset.sort_values('id', ascending=True)\n",
    "dataset = dataset.drop_duplicates(subset='id', keep='last')\n",
    "\n",
    "# 1a\n",
    "X = dataset.drop(columns=['class'])\n",
    "y = dataset['class'].values\n",
    "transf = Normalizer().fit(dataset)\n",
    "dataset = pd.DataFrame(transf.transform(dataset, copy=True), columns= dataset.columns)\n",
    "\n",
    "# 1b\n",
    "kmeans_model = cluster.KMeans(n_clusters=3, random_state=1).fit(X)\n",
    "\n",
    "y_pred = kmeans_model.labels_\n",
    "\n",
    "centers = kmeans_model.cluster_centers_\n",
    "\n",
    "colors = ['b', 'g', 'c']\n",
    "markers = ['o', 'v', 's']\n",
    "\n",
    "plt.plot()\n",
    "plt.title('k means centroids')\n",
    "print(X['gender'])\n",
    "\n",
    "for i, l in enumerate(kmeans_model.labels_):\n",
    "    plt.plot(X['gender'], X['PPE'], color=colors[l], marker=markers[l],ls='None')\n",
    "    plt.xlim([0, 10])\n",
    "    plt.ylim([0, 10])\n",
    "\n",
    "plt.scatter(centers[:,0], centers[:,1], marker=\"x\", color='r')\n",
    "plt.show()"
   ]
  },
  {
   "cell_type": "code",
   "execution_count": 27,
   "metadata": {},
   "outputs": [
    {
     "name": "stdout",
     "output_type": "stream",
     "text": [
      "Sum of squared distances: 3.041942664176582e+21\n",
      "Silhouette: 0.6363151535225156\n",
      "Calinski Harabaz: 378.4801998261871\n",
      "Davies Bouldin: 0.3935163504479746\n",
      "Silhouette per instance: [0.74791626 0.78759056 0.76453663 0.65439966 0.64755314 0.78160118\n",
      " 0.78801624 0.77651972 0.78771843 0.74414883 0.78006372 0.46761926\n",
      " 0.78264614 0.57917546 0.03340114 0.75835616 0.41667932 0.3577849\n",
      " 0.78138585 0.7753744  0.76072982 0.78792632 0.65781517 0.7512376\n",
      " 0.68270909 0.67845082 0.68557118 0.65201174 0.57507394 0.10072201\n",
      " 0.20767357 0.74937117 0.7354396  0.75019629 0.39875937 0.41286664\n",
      " 0.7776511  0.77186051 0.78286324 0.74298907 0.74502417 0.49863604\n",
      " 0.74351462 0.77681733 0.78688595 0.77302845 0.75548529 0.73742987\n",
      " 0.45906409 0.65684337 0.66686799 0.78333164 0.7646991  0.72091642\n",
      " 0.78117746 0.75606298 0.75522662 0.75361659 0.75063083 0.30926921\n",
      " 0.3377863  0.78798491 0.77504141 0.70857897 0.77612513 0.78704815\n",
      " 0.69952322 0.64459348 0.06524716 0.65334713 0.44724205 0.64929345\n",
      " 0.76297753 0.78629362 0.78453429 0.77022927 0.51471498 0.71434784\n",
      " 0.71663807 0.78063232 0.44354173 0.56594382 0.38752153 0.57833105\n",
      " 0.32429657 0.71925495 0.78106441 0.78233723 0.70052305 0.54309733\n",
      " 0.71870067 0.68921455 0.7252346  0.40279082 0.78180426 0.6897933\n",
      " 0.67079511 0.758878   0.73467586 0.39542763 0.76885393 0.75712872\n",
      " 0.77167542 0.65786025 0.77718978 0.65993138 0.68745124 0.77470235\n",
      " 0.58034437 0.48182876 0.7549706  0.75098813 0.63961448 0.77900265\n",
      " 0.77360315 0.77634434 0.78375627 0.75619166 0.50175054 0.64522892\n",
      " 0.63094453 0.76540458 0.41653812 0.6178475  0.75920377 0.54521782\n",
      " 0.75100857 0.7621788  0.63387535 0.7657619  0.77094833 0.61508654\n",
      " 0.11492571 0.54232646 0.78504503 0.49925158 0.4236939  0.7877437\n",
      " 0.73763481 0.78738169 0.61232293 0.71733755 0.5356934  0.76289331\n",
      " 0.65405907 0.72579254 0.73818618 0.52232488 0.71778069 0.54247873\n",
      " 0.77136553 0.74277337 0.77443051 0.75005313 0.67864643 0.73621557\n",
      " 0.         0.69044057 0.55262158 0.78643142 0.76747519 0.78800967\n",
      " 0.52970476 0.78696455 0.75963183 0.57899822 0.78389982 0.76458972\n",
      " 0.09824155 0.74576795 0.71959629 0.67564114 0.60472934 0.64936996\n",
      " 0.77910725 0.65008384 0.44977423 0.73486208 0.38101372 0.7616727\n",
      " 0.65073121 0.68243898 0.76744547 0.78681392 0.36587598 0.78286883\n",
      " 0.77540286 0.36556482 0.21568462 0.0912256  0.51620851 0.77317435\n",
      " 0.64088983 0.7350127  0.60284778 0.77237858 0.65571745 0.37580525\n",
      " 0.6661032  0.7866294  0.29497774 0.62559963 0.65364854 0.1921451\n",
      " 0.71417578 0.49475146 0.58800706 0.78383183 0.73770906 0.78673713\n",
      " 0.72375582 0.51642529 0.78563021 0.65764855 0.73903527 0.70076307\n",
      " 0.66212884 0.33139186 0.76396338 0.13350423 0.70675251 0.65726957\n",
      " 0.06032953 0.78125067 0.46827677 0.78775495 0.42421482 0.69380832\n",
      " 0.78734456 0.44013216 0.61677793 0.77113871 0.58152129 0.12460149\n",
      " 0.72895879 0.43555937 0.55827847 0.6428395  0.07781822 0.71312094\n",
      " 0.39211512 0.56525101 0.66068248 0.71598858 0.59336901 0.75199722\n",
      " 0.78777948 0.74622445 0.40754631 0.73115556 0.1234338  0.70772204]\n"
     ]
    }
   ],
   "source": [
    "# 2a\n",
    "print(\"Sum of squared distances:\",kmeans_model.inertia_)\n",
    "\n",
    "# 2b\n",
    "print(\"Silhouette:\",metrics.silhouette_score(X, y_pred))\n",
    "print(\"Calinski Harabaz:\",metrics.calinski_harabasz_score(X, y_pred))\n",
    "print(\"Davies Bouldin:\",metrics.davies_bouldin_score(X, y_pred))\n",
    "print(\"Silhouette per instance:\",metrics.silhouette_samples(X, y_pred))"
   ]
  },
  {
   "cell_type": "code",
   "execution_count": null,
   "metadata": {},
   "outputs": [],
   "source": []
  },
  {
   "cell_type": "code",
   "execution_count": 28,
   "metadata": {},
   "outputs": [],
   "source": [
    "from sklearn.metrics import silhouette_score, adjusted_rand_score"
   ]
  },
  {
   "cell_type": "code",
   "execution_count": 29,
   "metadata": {},
   "outputs": [
    {
     "name": "stdout",
     "output_type": "stream",
     "text": [
      "Silhouette[incorrect #blobs] = 0.9392565325619909\n"
     ]
    },
    {
     "ename": "NameError",
     "evalue": "name 'X_aniso' is not defined",
     "output_type": "error",
     "traceback": [
      "\u001b[0;31m---------------------------------------------------------------------------\u001b[0m",
      "\u001b[0;31mNameError\u001b[0m                                 Traceback (most recent call last)",
      "\u001b[0;32m<ipython-input-29-4e233abc9a8f>\u001b[0m in \u001b[0;36m<module>\u001b[0;34m\u001b[0m\n\u001b[1;32m      1\u001b[0m \u001b[0mprint\u001b[0m\u001b[0;34m(\u001b[0m\u001b[0;34m\"Silhouette[incorrect #blobs] =\"\u001b[0m\u001b[0;34m,\u001b[0m\u001b[0msilhouette_score\u001b[0m\u001b[0;34m(\u001b[0m\u001b[0mX_blobs\u001b[0m\u001b[0;34m,\u001b[0m \u001b[0my_pred_blobs\u001b[0m\u001b[0;34m,\u001b[0m \u001b[0mmetric\u001b[0m\u001b[0;34m=\u001b[0m\u001b[0;34m'euclidean'\u001b[0m\u001b[0;34m)\u001b[0m\u001b[0;34m)\u001b[0m\u001b[0;34m\u001b[0m\u001b[0;34m\u001b[0m\u001b[0m\n\u001b[0;32m----> 2\u001b[0;31m \u001b[0mprint\u001b[0m\u001b[0;34m(\u001b[0m\u001b[0;34m\"Silhouette[anistropicly] =\"\u001b[0m\u001b[0;34m,\u001b[0m\u001b[0msilhouette_score\u001b[0m\u001b[0;34m(\u001b[0m\u001b[0mX_aniso\u001b[0m\u001b[0;34m,\u001b[0m \u001b[0my_pred_aniso\u001b[0m\u001b[0;34m,\u001b[0m \u001b[0mmetric\u001b[0m\u001b[0;34m=\u001b[0m\u001b[0;34m'euclidean'\u001b[0m\u001b[0;34m)\u001b[0m\u001b[0;34m)\u001b[0m\u001b[0;34m\u001b[0m\u001b[0;34m\u001b[0m\u001b[0m\n\u001b[0m\u001b[1;32m      3\u001b[0m \u001b[0mprint\u001b[0m\u001b[0;34m(\u001b[0m\u001b[0;34m\"Silhouette[unequal variance] =\"\u001b[0m\u001b[0;34m,\u001b[0m\u001b[0msilhouette_score\u001b[0m\u001b[0;34m(\u001b[0m\u001b[0mX_varied\u001b[0m\u001b[0;34m,\u001b[0m \u001b[0my_pred_varied\u001b[0m\u001b[0;34m,\u001b[0m \u001b[0mmetric\u001b[0m\u001b[0;34m=\u001b[0m\u001b[0;34m'euclidean'\u001b[0m\u001b[0;34m)\u001b[0m\u001b[0;34m)\u001b[0m\u001b[0;34m\u001b[0m\u001b[0;34m\u001b[0m\u001b[0m\n",
      "\u001b[0;31mNameError\u001b[0m: name 'X_aniso' is not defined"
     ]
    }
   ],
   "source": [
    "print(\"Silhouette[incorrect #blobs] =\",silhouette_score(X_blobs, y_pred_blobs, metric='euclidean'))\n",
    "print(\"Silhouette[anistropicly] =\",silhouette_score(X_aniso, y_pred_aniso, metric='euclidean'))\n",
    "print(\"Silhouette[unequal variance] =\",silhouette_score(X_varied, y_pred_varied, metric='euclidean'))"
   ]
  },
  {
   "cell_type": "code",
   "execution_count": 30,
   "metadata": {},
   "outputs": [
    {
     "name": "stdout",
     "output_type": "stream",
     "text": [
      "Silhouette[blobs with Euclidean] = 0.9392565325619909\n",
      "Silhouette[blobs with Chebyshev] = 0.9325894331352\n",
      "Silhouette[blobs with Cosine] = 0.9865229424255608\n",
      "Silhouette[blobs with Correlation] = 0.9864991985771092\n"
     ]
    }
   ],
   "source": [
    "print(\"Silhouette[blobs with Euclidean] =\",silhouette_score(X_blobs, y_pred_blobs, metric='euclidean'))\n",
    "print(\"Silhouette[blobs with Chebyshev] =\",silhouette_score(X_blobs, y_pred_blobs, metric='chebyshev'))\n",
    "print(\"Silhouette[blobs with Cosine] =\",silhouette_score(X_blobs, y_pred_blobs, metric='cosine'))\n",
    "print(\"Silhouette[blobs with Correlation] =\",silhouette_score(X_blobs, y_pred_blobs, metric='correlation'))"
   ]
  },
  {
   "cell_type": "code",
   "execution_count": 31,
   "metadata": {},
   "outputs": [
    {
     "name": "stdout",
     "output_type": "stream",
     "text": [
      "RI[incorrect #blobs] = -0.0021339385820083336\n"
     ]
    },
    {
     "ename": "NameError",
     "evalue": "name 'y_aniso' is not defined",
     "output_type": "error",
     "traceback": [
      "\u001b[0;31m---------------------------------------------------------------------------\u001b[0m",
      "\u001b[0;31mNameError\u001b[0m                                 Traceback (most recent call last)",
      "\u001b[0;32m<ipython-input-31-98e0494fec73>\u001b[0m in \u001b[0;36m<module>\u001b[0;34m\u001b[0m\n\u001b[1;32m      1\u001b[0m \u001b[0mprint\u001b[0m\u001b[0;34m(\u001b[0m\u001b[0;34m\"RI[incorrect #blobs] =\"\u001b[0m\u001b[0;34m,\u001b[0m\u001b[0madjusted_rand_score\u001b[0m\u001b[0;34m(\u001b[0m\u001b[0my_blobs\u001b[0m\u001b[0;34m,\u001b[0m \u001b[0my_pred_blobs\u001b[0m\u001b[0;34m)\u001b[0m\u001b[0;34m)\u001b[0m\u001b[0;34m\u001b[0m\u001b[0;34m\u001b[0m\u001b[0m\n\u001b[0;32m----> 2\u001b[0;31m \u001b[0mprint\u001b[0m\u001b[0;34m(\u001b[0m\u001b[0;34m\"RI[anistropicly] =\"\u001b[0m\u001b[0;34m,\u001b[0m\u001b[0madjusted_rand_score\u001b[0m\u001b[0;34m(\u001b[0m\u001b[0my_aniso\u001b[0m\u001b[0;34m,\u001b[0m \u001b[0my_pred_aniso\u001b[0m\u001b[0;34m)\u001b[0m\u001b[0;34m)\u001b[0m\u001b[0;34m\u001b[0m\u001b[0;34m\u001b[0m\u001b[0m\n\u001b[0m\u001b[1;32m      3\u001b[0m \u001b[0mprint\u001b[0m\u001b[0;34m(\u001b[0m\u001b[0;34m\"RI[unequal variance] =\"\u001b[0m\u001b[0;34m,\u001b[0m\u001b[0madjusted_rand_score\u001b[0m\u001b[0;34m(\u001b[0m\u001b[0my_varied\u001b[0m\u001b[0;34m,\u001b[0m \u001b[0my_pred_varied\u001b[0m\u001b[0;34m)\u001b[0m\u001b[0;34m)\u001b[0m\u001b[0;34m\u001b[0m\u001b[0;34m\u001b[0m\u001b[0m\n",
      "\u001b[0;31mNameError\u001b[0m: name 'y_aniso' is not defined"
     ]
    }
   ],
   "source": [
    "print(\"RI[incorrect #blobs] =\",adjusted_rand_score(y_blobs, y_pred_blobs))\n",
    "print(\"RI[anistropicly] =\",adjusted_rand_score(y_aniso, y_pred_aniso))\n",
    "print(\"RI[unequal variance] =\",adjusted_rand_score(y_varied, y_pred_varied))"
   ]
  },
  {
   "cell_type": "code",
   "execution_count": 32,
   "metadata": {},
   "outputs": [],
   "source": [
    "np.random.seed(0)\n",
    "n_samples = 1500\n",
    "random_state = 170\n",
    "\n",
    "# Generating the first 5 datasets\n",
    "noisy_circles = datasets.make_circles(n_samples=n_samples,factor=.5,noise=.05)\n",
    "noisy_moons = datasets.make_moons(n_samples=n_samples, noise=.05)\n",
    "blobs = datasets.make_blobs(n_samples=n_samples, random_state=8)\n",
    "no_structure = np.random.rand(n_samples, 2), None\n",
    "varied = datasets.make_blobs(n_samples=n_samples, cluster_std=[1.0, 2.5, 0.5], random_state=random_state)\n",
    "\n",
    "# Generating the 6th Anisotropicly distributed dataset\n",
    "X, y = datasets.make_blobs(n_samples=n_samples, random_state=random_state)\n",
    "transformation = [[0.6, -0.6], [-0.4, 0.8]]\n",
    "X_aniso = np.dot(X, transformation)\n",
    "aniso = (X_aniso, y)"
   ]
  },
  {
   "cell_type": "code",
   "execution_count": 33,
   "metadata": {},
   "outputs": [
    {
     "name": "stdout",
     "output_type": "stream",
     "text": [
      "[((array([[-0.67799938, -0.69875698],\n",
      "       [ 0.93143746,  0.19139133],\n",
      "       [ 0.54829131, -0.00601715],\n",
      "       ...,\n",
      "       [-0.34518816, -0.35804797],\n",
      "       [ 0.01719727, -0.94513802],\n",
      "       [ 0.91377877, -0.59884164]]), array([0, 0, 1, ..., 1, 0, 0])), {'n_clusters': 2}), ((array([[ 0.49627131, -0.34275349],\n",
      "       [-0.16629956,  0.92234209],\n",
      "       [ 0.71895601,  0.66529038],\n",
      "       ...,\n",
      "       [ 1.90950927,  0.02989686],\n",
      "       [ 0.54623069, -0.36003133],\n",
      "       [ 0.04090016,  0.37069297]]), array([1, 0, 0, ..., 1, 1, 1])), {'n_clusters': 2}), ((array([[ -6.11119721,   1.47153062],\n",
      "       [ -7.49665361,   0.9134251 ],\n",
      "       [-10.84489837,  -7.55352273],\n",
      "       ...,\n",
      "       [  1.64990343,  -0.20117787],\n",
      "       [  0.79230661,   0.60868888],\n",
      "       [  1.91226342,   0.25327399]]), array([1, 1, 0, ..., 2, 2, 2])), {'n_neighbors': 2}), ((array([[-3.37561542,  3.63236314],\n",
      "       [-3.61882807,  3.78627892],\n",
      "       [-3.48552993,  0.46412084],\n",
      "       ...,\n",
      "       [ 1.17962827, -1.54262502],\n",
      "       [-0.49738132,  0.78227797],\n",
      "       [ 1.13089877, -1.13033403]]), array([1, 1, 0, ..., 2, 2, 2])), {'n_neighbors': 2}), ((array([[ 5.86749807,  8.17715188],\n",
      "       [ 5.61369982,  9.93295527],\n",
      "       [ 7.22508428, 10.44886194],\n",
      "       ...,\n",
      "       [ 7.73674097, 10.82855388],\n",
      "       [-4.61701094, -9.64855983],\n",
      "       [-3.48640175, -9.25766922]]), array([0, 0, 0, ..., 0, 2, 2])), {}), ((array([[0.59945663, 0.24694133],\n",
      "       [0.5173267 , 0.57255303],\n",
      "       [0.55229185, 0.40567924],\n",
      "       ...,\n",
      "       [0.8384347 , 0.52906874],\n",
      "       [0.84228843, 0.11517496],\n",
      "       [0.91963613, 0.22592146]]), None), {})]\n"
     ]
    }
   ],
   "source": [
    "default_base = {'n_neighbors': 10,'n_clusters': 3}\n",
    "datasets = [\n",
    "    (noisy_circles, {'n_clusters': 2}),\n",
    "    (noisy_moons, {'n_clusters': 2}),\n",
    "    (varied, {'n_neighbors': 2}),\n",
    "    (aniso, {'n_neighbors': 2}),\n",
    "    (blobs, {}),\n",
    "    (no_structure, {})]\n",
    "print(datasets)\n",
    "algorithms = {}\n",
    "all_predictions = []\n",
    "all_efficiency = []\n",
    "\n",
    "for i_dataset, (dataset, algo_params) in enumerate(datasets):\n",
    "\n",
    "    # 1a Set parameters for each dataset\n",
    "    params = default_base.copy()\n",
    "    params.update(algo_params)\n",
    "    \n",
    "    # 1b Parameterize clustering algorithms\n",
    "    algorithms['Ward Linkage'] = cluster.AgglomerativeClustering(\n",
    "        n_clusters=params['n_clusters'], linkage='ward')\n",
    "    algorithms['Complete Linkage'] = cluster.AgglomerativeClustering(\n",
    "        n_clusters=params['n_clusters'], linkage='complete')\n",
    "    algorithms['Average Linkage'] = cluster.AgglomerativeClustering(\n",
    "        n_clusters=params['n_clusters'], linkage='average')\n",
    "    algorithms['Single Linkage'] = cluster.AgglomerativeClustering(\n",
    "        n_clusters=params['n_clusters'], linkage='single')\n",
    "\n",
    "    # 2 Access and normalize data\n",
    "    X, y = dataset\n",
    "    X = StandardScaler().fit_transform(X)\n",
    "\n",
    "    # 3 Run clustering algorithm and store predictions\n",
    "    predictions = {}\n",
    "    efficiency = {}\n",
    "    for name in algorithms:\n",
    "        clustering = algorithms[name]\n",
    "        t0 = time.time()\n",
    "        with warnings.catch_warnings():\n",
    "            warnings.filterwarnings(\n",
    "                \"ignore\",\n",
    "                message=\"the number of connected components of the connectivity matrix is [0-9]{1,2}\" +\n",
    "                    \" > 1. Completing it to avoid stopping the tree early.\",\n",
    "                category=UserWarning)\n",
    "            clustering.fit(X)\n",
    "        efficiency[name]= time.time()-t0\n",
    "        if hasattr(clustering, 'labels_'): predictions[name] = clustering.labels_.astype(np.int)\n",
    "        else: predictions[name] = clustering.predict(X)\n",
    "            \n",
    "    all_predictions.append(predictions)\n",
    "    all_efficiency.append(efficiency)"
   ]
  },
  {
   "cell_type": "code",
   "execution_count": null,
   "metadata": {},
   "outputs": [],
   "source": [
    "# Set up cluster parameters\n",
    "plt.figure(figsize=(11, 8))\n",
    "plt.subplots_adjust(left=.02, right=.98, bottom=.001, top=.96, wspace=.05, hspace=.01)\n",
    "color_array = ['#377eb8','#ff7f00','#4daf4a','#f781bf','#a65628','#984ea3','#999999','#e41a1c','#dede00']\n",
    "plot_num = 1\n",
    "for k in range(len(datasets)):\n",
    "    predictions = all_predictions[k]\n",
    "    efficiency = all_efficiency[k]\n",
    "    X, y = datasets[k][0]\n",
    "    X = StandardScaler().fit_transform(X)\n",
    "    \n",
    "    for name in predictions:\n",
    "        y_pred = predictions[name]\n",
    "        plt.subplot(len(datasets), len(algorithms), plot_num)\n",
    "        if k == 0: plt.title(name, size=18)\n",
    "        colors = np.array(list(islice(cycle(color_array),int(max(y_pred) + 1))))\n",
    "        colors = np.append(colors, [\"#000000\"]) #black color for outliers (if any)\n",
    "        \n",
    "        plt.scatter(X[:, 0], X[:, 1], s=10, color=colors[y_pred])\n",
    "        plt.xlim(-2.5, 2.5)\n",
    "        plt.ylim(-2.5, 2.5)\n",
    "        plt.xticks(())\n",
    "        plt.yticks(())\n",
    "        plt.text(.99, .01, ('%.2fs' % efficiency[name]).lstrip('0'),\n",
    "                 transform=plt.gca().transAxes,size=15,horizontalalignment='right')\n",
    "        plot_num += 1\n",
    "\n",
    "plt.show()"
   ]
  },
  {
   "cell_type": "code",
   "execution_count": null,
   "metadata": {},
   "outputs": [],
   "source": [
    "# Defining default parameters for the six generated datasets\n",
    "datasets = [\n",
    "    (noisy_circles,{'damping':.77,'preference':-240,'quantile':.2,'n_clusters':2}),\n",
    "    (noisy_moons, {'damping': .75, 'preference': -220, 'n_clusters': 2}),\n",
    "    (varied, {'eps': .18, 'n_neighbors': 2}),\n",
    "    (aniso, {'eps': .15, 'n_neighbors': 2}),\n",
    "    (blobs, {}),\n",
    "    (no_structure, {})]"
   ]
  },
  {
   "cell_type": "code",
   "execution_count": null,
   "metadata": {},
   "outputs": [],
   "source": [
    "# Cluster parameters\n",
    "default_base = {'n_clusters':3, 'quantile':.3, 'eps':.3, 'damping':.9, 'preference':-200, 'n_neighbors':10}\n",
    "\n",
    "algorithms = {}\n",
    "all_predictions = []\n",
    "all_efficiency = []\n",
    "\n",
    "for i_dataset, (dataset, algo_params) in enumerate(datasets):\n",
    "\n",
    "    # 1a Set parameters for each dataset\n",
    "    params = default_base.copy()\n",
    "    params.update(algo_params)\n",
    "    \n",
    "    # 1b Parameterize clustering algorithms\n",
    "    algorithms['MiniBatchKMeans'] = cluster.MiniBatchKMeans(n_clusters=params['n_clusters'])\n",
    "    algorithms['DBSCAN'] = cluster.DBSCAN(eps=params['eps'])\n",
    "    algorithms['Spectral'] = cluster.SpectralClustering(\n",
    "        n_clusters=params['n_clusters'], eigen_solver='arpack',affinity=\"nearest_neighbors\")\n",
    "    algorithms['AffinityPropagation'] = cluster.AffinityPropagation(\n",
    "        damping=params['damping'], preference=params['preference'])\n",
    "    algorithms['Birch'] = cluster.Birch(n_clusters=params['n_clusters'])\n",
    "    algorithms['GaussianMixture'] = mixture.GaussianMixture(n_components=params['n_clusters'], covariance_type='full')\n",
    "    bandwidth = cluster.estimate_bandwidth(X, quantile=params['quantile'])\n",
    "    algorithms['MeanShift'] = cluster.MeanShift(bandwidth=bandwidth, bin_seeding=True)\n",
    "\n",
    "    # 2 Access and normalize data\n",
    "    X, y = dataset\n",
    "    X = StandardScaler().fit_transform(X)\n",
    "\n",
    "    # 3 Run clustering algorithm and store predictions\n",
    "    predictions = {}\n",
    "    efficiency = {}\n",
    "    for name in algorithms:\n",
    "        clustering = algorithms[name]\n",
    "        t0 = time.time()\n",
    "        # catch warnings related to kneighbors_graph\n",
    "        with warnings.catch_warnings():\n",
    "            warnings.filterwarnings(\"ignore\",category=UserWarning,\n",
    "                message=\"the number of connected components of the connectivity matrix is [0-9]{1,2}\" +\n",
    "                    \" > 1. Completing it to avoid stopping the tree early.\")\n",
    "            warnings.filterwarnings(\"ignore\",category=UserWarning,\n",
    "                message=\"Graph is not fully connected, spectral embedding may not work as expected.\")\n",
    "            clustering.fit(X)\n",
    "        efficiency[name]= time.time()-t0\n",
    "        if hasattr(clustering, 'labels_'): predictions[name] = clustering.labels_.astype(np.int)\n",
    "        else: predictions[name] = clustering.predict(X)\n",
    "    all_predictions.append(predictions)\n",
    "    all_efficiency.append(efficiency)"
   ]
  },
  {
   "cell_type": "code",
   "execution_count": null,
   "metadata": {},
   "outputs": [],
   "source": [
    "plt.figure(figsize=(9 * 2 + 3, 12.5))\n",
    "plt.subplots_adjust(left=.02,right=.98,bottom=.001,top=.96,wspace=.05,hspace=.01)\n",
    "plot_num = 1\n",
    "color_array = ['#377eb8','#ff7f00','#4daf4a','#f781bf','#a65628','#984ea3','#999999','#e41a1c','#dede00']\n",
    "for k in range(len(datasets)):\n",
    "    predictions = all_predictions[k]\n",
    "    efficiency = all_efficiency[k]\n",
    "    X, y = datasets[k][0]\n",
    "    X = StandardScaler().fit_transform(X)\n",
    "    \n",
    "    for name in predictions:\n",
    "        y_pred = predictions[name]\n",
    "        plt.subplot(len(datasets), len(algorithms), plot_num)\n",
    "        if k == 0: plt.title(name, size=18)\n",
    "        colors = np.array(list(islice(cycle(color_array),int(max(y_pred) + 1))))\n",
    "        colors = np.append(colors, [\"#000000\"]) #black color for outliers (if any)\n",
    "        \n",
    "        plt.scatter(X[:, 0], X[:, 1], s=10, color=colors[y_pred])\n",
    "        plt.xlim(-2.5, 2.5)\n",
    "        plt.ylim(-2.5, 2.5)\n",
    "        plt.xticks(())\n",
    "        plt.yticks(())\n",
    "        plt.text(.99, .01, ('%.2fs' % efficiency[name]).lstrip('0'),\n",
    "                 transform=plt.gca().transAxes,size=15,horizontalalignment='right')\n",
    "        plot_num += 1\n",
    "\n",
    "plt.show()"
   ]
  },
  {
   "cell_type": "code",
   "execution_count": null,
   "metadata": {},
   "outputs": [],
   "source": [
    "labels_true = [0, 0, 0, 1, 1, 1]\n",
    "labels_pred = [0, 0, 1, 1, 2, 2]"
   ]
  },
  {
   "cell_type": "code",
   "execution_count": null,
   "metadata": {},
   "outputs": [],
   "source": [
    "print(metrics.adjusted_rand_score(labels_true, labels_pred))\n",
    "print(metrics.adjusted_mutual_info_score(labels_true, labels_pred))\n",
    "print(metrics.mutual_info_score(labels_true, labels_pred))\n",
    "print(metrics.normalized_mutual_info_score(labels_true, labels_pred))"
   ]
  },
  {
   "cell_type": "code",
   "execution_count": null,
   "metadata": {},
   "outputs": [],
   "source": [
    "print(metrics.homogeneity_score(labels_true, labels_pred))  \n",
    "print(metrics.completeness_score(labels_true, labels_pred)) \n",
    "print(metrics.v_measure_score(labels_true, labels_pred))"
   ]
  },
  {
   "cell_type": "code",
   "execution_count": null,
   "metadata": {},
   "outputs": [],
   "source": [
    "labels_true = [0, 1, 2, 0, 3, 4, 5, 1]\n",
    "labels_pred = [1, 1, 0, 0, 2, 2, 2, 2]"
   ]
  },
  {
   "cell_type": "code",
   "execution_count": null,
   "metadata": {},
   "outputs": [],
   "source": [
    "print(metrics.adjusted_rand_score(labels_true, labels_pred))\n",
    "print(metrics.adjusted_mutual_info_score(labels_true, labels_pred))\n",
    "print(metrics.mutual_info_score(labels_true, labels_pred))\n",
    "print(metrics.normalized_mutual_info_score(labels_true, labels_pred))"
   ]
  },
  {
   "cell_type": "code",
   "execution_count": null,
   "metadata": {},
   "outputs": [],
   "source": [
    "print(metrics.homogeneity_score(labels_true, labels_pred))  \n",
    "print(metrics.completeness_score(labels_true, labels_pred)) \n",
    "print(metrics.v_measure_score(labels_true, labels_pred))"
   ]
  },
  {
   "cell_type": "code",
   "execution_count": null,
   "metadata": {},
   "outputs": [],
   "source": [
    "x = [\"a\", \"a\", \"a\", \"b\", \"b\", \"b\"]\n",
    "y = [0, 0, 1, 1, 2, 2]\n",
    "metrics.cluster.contingency_matrix(x, y)"
   ]
  },
  {
   "cell_type": "code",
   "execution_count": null,
   "metadata": {},
   "outputs": [],
   "source": []
  },
  {
   "cell_type": "code",
   "execution_count": null,
   "metadata": {},
   "outputs": [],
   "source": []
  },
  {
   "cell_type": "code",
   "execution_count": 42,
   "metadata": {},
   "outputs": [
    {
     "name": "stdout",
     "output_type": "stream",
     "text": [
      "[[ 0.04840052 -0.60431296]\n",
      " [-2.90377556 -1.76762122]\n",
      " [ 0.76034237 -1.21721296]\n",
      " ...\n",
      " [-0.63132708 -1.3974623 ]\n",
      " [-1.47312419 -1.28925192]\n",
      " [ 0.98895455  0.65578892]] [1 1 2 ... 2 1 0]\n"
     ]
    }
   ],
   "source": [
    "from sklearn.cluster import MiniBatchKMeans, KMeans\n",
    "from sklearn.metrics.pairwise import pairwise_distances_argmin\n",
    "from sklearn.datasets.samples_generator import make_blobs\n",
    "\n",
    "# 1a generate sample data\n",
    "np.random.seed(0)\n",
    "centers = [[1, 1], [-1, -1], [1, -1]]\n",
    "n_clusters = len(centers)\n",
    "X, labels_true = make_blobs(n_samples=3000, centers=centers, cluster_std=0.7)\n",
    "print(X,labels_true)"
   ]
  },
  {
   "cell_type": "code",
   "execution_count": null,
   "metadata": {},
   "outputs": [],
   "source": []
  }
 ],
 "metadata": {
  "kernelspec": {
   "display_name": "Python 3",
   "language": "python",
   "name": "python3"
  },
  "language_info": {
   "codemirror_mode": {
    "name": "ipython",
    "version": 3
   },
   "file_extension": ".py",
   "mimetype": "text/x-python",
   "name": "python",
   "nbconvert_exporter": "python",
   "pygments_lexer": "ipython3",
   "version": "3.7.3"
  }
 },
 "nbformat": 4,
 "nbformat_minor": 2
}
